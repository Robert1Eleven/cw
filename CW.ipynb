{
 "cells": [
  {
   "attachments": {},
   "cell_type": "markdown",
   "id": "f41aa74e",
   "metadata": {},
   "source": [
    "Импортируем библиотеки"
   ]
  },
  {
   "attachments": {},
   "cell_type": "markdown",
   "id": "5a13b01c",
   "metadata": {},
   "source": [
    "02.2023"
   ]
  },
  {
   "cell_type": "code",
   "execution_count": 9,
   "id": "f96e5ad7",
   "metadata": {},
   "outputs": [
    {
     "name": "stdout",
     "output_type": "stream",
     "text": [
      "Collecting openpyxl\n",
      "  Downloading openpyxl-3.1.2-py2.py3-none-any.whl (249 kB)\n",
      "     ---------------------------------------- 0.0/250.0 kB ? eta -:--:--\n",
      "     --------- ----------------------------- 61.4/250.0 kB 1.1 MB/s eta 0:00:01\n",
      "     --------------------- ---------------- 143.4/250.0 kB 1.4 MB/s eta 0:00:01\n",
      "     -------------------------- ----------- 174.1/250.0 kB 1.5 MB/s eta 0:00:01\n",
      "     ------------------------------- ------ 204.8/250.0 kB 1.1 MB/s eta 0:00:01\n",
      "     -------------------------------------- 250.0/250.0 kB 1.0 MB/s eta 0:00:00\n",
      "Collecting et-xmlfile\n",
      "  Downloading et_xmlfile-1.1.0-py3-none-any.whl (4.7 kB)\n",
      "Installing collected packages: et-xmlfile, openpyxl\n",
      "Successfully installed et-xmlfile-1.1.0 openpyxl-3.1.2\n",
      "Note: you may need to restart the kernel to use updated packages.\n"
     ]
    }
   ],
   "source": [
    "pip install openpyxl"
   ]
  },
  {
   "cell_type": "code",
   "execution_count": 1,
   "id": "d1fc9b70",
   "metadata": {},
   "outputs": [],
   "source": [
    "import numpy as np\n",
    "import pandas as pd"
   ]
  },
  {
   "cell_type": "raw",
   "id": "013ec6bd",
   "metadata": {},
   "source": [
    "Загрузка таблиц excel, из-за ограничения по количеству строк в СПАРКе, пришлось выгружать девять раз,"
   ]
  },
  {
   "cell_type": "code",
   "execution_count": null,
   "id": "113d270f",
   "metadata": {},
   "outputs": [],
   "source": [
    "t1 = pd.read_excel(\"C:/Users/fizze/Desktop/90k14-16/10k14-16.xlsx\")"
   ]
  },
  {
   "cell_type": "code",
   "execution_count": 22,
   "id": "e26d986c",
   "metadata": {},
   "outputs": [],
   "source": [
    "t2 = pd.read_excel(\"C:/Users/fizze/Desktop/90k14-16/20k14-16.xlsx\")"
   ]
  },
  {
   "cell_type": "code",
   "execution_count": 27,
   "id": "9df90669",
   "metadata": {},
   "outputs": [],
   "source": [
    "t3 = pd.read_excel(\"C:/Users/fizze/Desktop/90k14-16/30k14-16.xlsx\")"
   ]
  },
  {
   "cell_type": "code",
   "execution_count": 35,
   "id": "1830c96a",
   "metadata": {},
   "outputs": [],
   "source": [
    "t4 = pd.read_excel(\"C:/Users/fizze/Desktop/90k14-16/40k14-16.xlsx\", skiprows=3, nrows=10000)"
   ]
  },
  {
   "cell_type": "code",
   "execution_count": 37,
   "id": "8d3ee919",
   "metadata": {},
   "outputs": [],
   "source": [
    "t5 = pd.read_excel(\"C:/Users/fizze/Desktop/90k14-16/50k14-16.xlsx\", skiprows=3, nrows=10000)"
   ]
  },
  {
   "cell_type": "code",
   "execution_count": 39,
   "id": "2efe4f4e",
   "metadata": {},
   "outputs": [],
   "source": [
    "t6 = pd.read_excel(\"C:/Users/fizze/Desktop/90k14-16/60k14-16.xlsx\", skiprows=3, nrows=10000)"
   ]
  },
  {
   "cell_type": "code",
   "execution_count": 38,
   "id": "0ffdbef3",
   "metadata": {},
   "outputs": [],
   "source": [
    "t7 = pd.read_excel(\"C:/Users/fizze/Desktop/90k14-16/70k14-16.xlsx\", skiprows=3, nrows=10000)"
   ]
  },
  {
   "cell_type": "code",
   "execution_count": 40,
   "id": "e53c75cd",
   "metadata": {},
   "outputs": [],
   "source": [
    "t8 = pd.read_excel(\"C:/Users/fizze/Desktop/90k14-16/80k14-16.xlsx\", skiprows=3, nrows=10000)"
   ]
  },
  {
   "cell_type": "code",
   "execution_count": 63,
   "id": "f19582fa",
   "metadata": {},
   "outputs": [],
   "source": [
    "t92 = pd.read_excel(\"C:/Users/fizze/Desktop/90k14-16/90k14-16.xlsx\", skiprows=3, nrows=9472)"
   ]
  },
  {
   "attachments": {},
   "cell_type": "markdown",
   "id": "2debd238",
   "metadata": {},
   "source": [
    "Объединим в один датасет"
   ]
  },
  {
   "cell_type": "code",
   "execution_count": 54,
   "id": "82ea1f3e",
   "metadata": {},
   "outputs": [],
   "source": [
    "tu2 = pd.concat([t1, t2, t3, t4, t5, t6, t7, t8, t9], ignore_index=True)"
   ]
  },
  {
   "cell_type": "code",
   "execution_count": 66,
   "id": "f25c0cbd",
   "metadata": {},
   "outputs": [],
   "source": [
    "tu2.to_excel('90K17-21.xlsx')"
   ]
  },
  {
   "cell_type": "code",
   "execution_count": 59,
   "id": "b383e105",
   "metadata": {},
   "outputs": [],
   "source": [
    "t1 = pd.read_excel(\"C:/Users/fizze/Desktop/90k17-21/10k17-21.xlsx\", skiprows=3, nrows=10000)\n",
    "t2 = pd.read_excel(\"C:/Users/fizze/Desktop/90k17-21/20k17-21.xlsx\", skiprows=3, nrows=10000)\n",
    "t3 = pd.read_excel(\"C:/Users/fizze/Desktop/90k17-21/30k17-21.xlsx\", skiprows=3, nrows=10000)\n",
    "t4 = pd.read_excel(\"C:/Users/fizze/Desktop/90k17-21/40k17-21.xlsx\", skiprows=3, nrows=10000)\n",
    "t5 = pd.read_excel(\"C:/Users/fizze/Desktop/90k17-21/50k17-21.xlsx\", skiprows=3, nrows=10000)\n",
    "t6 = pd.read_excel(\"C:/Users/fizze/Desktop/90k17-21/60k17-21.xlsx\", skiprows=3, nrows=10000)\n",
    "t7 = pd.read_excel(\"C:/Users/fizze/Desktop/90k17-21/70k17-21.xlsx\", skiprows=3, nrows=10000)\n",
    "t8 = pd.read_excel(\"C:/Users/fizze/Desktop/90k17-21/80k17-21.xlsx\", skiprows=3, nrows=10000)\n",
    "t9 = pd.read_excel(\"C:/Users/fizze/Desktop/90k17-21/90k17-21.xlsx\", skiprows=3, nrows=9472)"
   ]
  },
  {
   "cell_type": "code",
   "execution_count": 2,
   "id": "6a2fe68b",
   "metadata": {},
   "outputs": [],
   "source": [
    "un = pd.read_excel(\"C:/Users/fizze/Desktop/90k/updatedun.xlsx\")"
   ]
  },
  {
   "cell_type": "code",
   "execution_count": 3,
   "id": "7da95c8c",
   "metadata": {
    "collapsed": true
   },
   "outputs": [
    {
     "data": {
      "text/html": [
       "<div>\n",
       "<style scoped>\n",
       "    .dataframe tbody tr th:only-of-type {\n",
       "        vertical-align: middle;\n",
       "    }\n",
       "\n",
       "    .dataframe tbody tr th {\n",
       "        vertical-align: top;\n",
       "    }\n",
       "\n",
       "    .dataframe thead th {\n",
       "        text-align: right;\n",
       "    }\n",
       "</style>\n",
       "<table border=\"1\" class=\"dataframe\">\n",
       "  <thead>\n",
       "    <tr style=\"text-align: right;\">\n",
       "      <th></th>\n",
       "      <th>Unnamed: 0</th>\n",
       "      <th>Наименование</th>\n",
       "      <th>Код налогоплательщика</th>\n",
       "      <th>Код основного вида деятельности</th>\n",
       "      <th>Код ОКФС</th>\n",
       "      <th>2014, Выручка, RUB</th>\n",
       "      <th>2015, Выручка, RUB</th>\n",
       "      <th>2016, Выручка, RUB</th>\n",
       "      <th>2017, Выручка, RUB</th>\n",
       "      <th>2018, Выручка, RUB</th>\n",
       "      <th>...</th>\n",
       "      <th>2020, Прибыль (убыток) до налогообложения , RUB</th>\n",
       "      <th>2021, Прибыль (убыток) до налогообложения , RUB</th>\n",
       "      <th>2014, Чистая прибыль (убыток), RUB</th>\n",
       "      <th>2015, Чистая прибыль (убыток), RUB</th>\n",
       "      <th>2016, Чистая прибыль (убыток), RUB</th>\n",
       "      <th>2017, Чистая прибыль (убыток), RUB</th>\n",
       "      <th>2018, Чистая прибыль (убыток), RUB</th>\n",
       "      <th>2019, Чистая прибыль (убыток), RUB</th>\n",
       "      <th>2020, Чистая прибыль (убыток), RUB</th>\n",
       "      <th>2021, Чистая прибыль (убыток), RUB</th>\n",
       "    </tr>\n",
       "  </thead>\n",
       "  <tbody>\n",
       "    <tr>\n",
       "      <th>0</th>\n",
       "      <td>0</td>\n",
       "      <td>(КОЛХОЗ) ИМ. КАЛИНИНА, СПК</td>\n",
       "      <td>7305000248</td>\n",
       "      <td>01.41</td>\n",
       "      <td>16</td>\n",
       "      <td>81948000</td>\n",
       "      <td>116824000</td>\n",
       "      <td>107300000</td>\n",
       "      <td>116429000.0</td>\n",
       "      <td>133251000.0</td>\n",
       "      <td>...</td>\n",
       "      <td>51973000.0</td>\n",
       "      <td>36616000.0</td>\n",
       "      <td>8992000.0</td>\n",
       "      <td>-2406000.0</td>\n",
       "      <td>16186000.0</td>\n",
       "      <td>24478000.0</td>\n",
       "      <td>39000.0</td>\n",
       "      <td>4264000.0</td>\n",
       "      <td>51973000.0</td>\n",
       "      <td>36616000.0</td>\n",
       "    </tr>\n",
       "    <tr>\n",
       "      <th>1</th>\n",
       "      <td>1</td>\n",
       "      <td>(КОЛХОЗ) ИМ. КРУПСКОЙ, СПК</td>\n",
       "      <td>5651005199</td>\n",
       "      <td>01.5</td>\n",
       "      <td>16</td>\n",
       "      <td>21930000</td>\n",
       "      <td>28694000</td>\n",
       "      <td>36743000</td>\n",
       "      <td>NaN</td>\n",
       "      <td>NaN</td>\n",
       "      <td>...</td>\n",
       "      <td>NaN</td>\n",
       "      <td>NaN</td>\n",
       "      <td>-449000.0</td>\n",
       "      <td>-997000.0</td>\n",
       "      <td>-10729000.0</td>\n",
       "      <td>NaN</td>\n",
       "      <td>NaN</td>\n",
       "      <td>NaN</td>\n",
       "      <td>NaN</td>\n",
       "      <td>NaN</td>\n",
       "    </tr>\n",
       "    <tr>\n",
       "      <th>2</th>\n",
       "      <td>2</td>\n",
       "      <td>(КОЛХОЗ) ИМ. КУЙБЫШЕВА, СПК</td>\n",
       "      <td>3226003979</td>\n",
       "      <td>01.41</td>\n",
       "      <td>16</td>\n",
       "      <td>10188000</td>\n",
       "      <td>11049000</td>\n",
       "      <td>10413000</td>\n",
       "      <td>11287000.0</td>\n",
       "      <td>11309000.0</td>\n",
       "      <td>...</td>\n",
       "      <td>94000.0</td>\n",
       "      <td>-980000.0</td>\n",
       "      <td>809000.0</td>\n",
       "      <td>1509000.0</td>\n",
       "      <td>534000.0</td>\n",
       "      <td>-99000.0</td>\n",
       "      <td>-4223000.0</td>\n",
       "      <td>-7166000.0</td>\n",
       "      <td>94000.0</td>\n",
       "      <td>-980000.0</td>\n",
       "    </tr>\n",
       "    <tr>\n",
       "      <th>3</th>\n",
       "      <td>3</td>\n",
       "      <td>(КОЛХОЗ) ИМ. ЛЕНИНА, СПК</td>\n",
       "      <td>5226011973</td>\n",
       "      <td>01.41</td>\n",
       "      <td>16</td>\n",
       "      <td>17646000</td>\n",
       "      <td>32154000</td>\n",
       "      <td>40915000</td>\n",
       "      <td>31240000.0</td>\n",
       "      <td>24586000.0</td>\n",
       "      <td>...</td>\n",
       "      <td>7720000.0</td>\n",
       "      <td>225000.0</td>\n",
       "      <td>2913000.0</td>\n",
       "      <td>8325000.0</td>\n",
       "      <td>8419000.0</td>\n",
       "      <td>2890000.0</td>\n",
       "      <td>1458000.0</td>\n",
       "      <td>1393000.0</td>\n",
       "      <td>7720000.0</td>\n",
       "      <td>225000.0</td>\n",
       "    </tr>\n",
       "    <tr>\n",
       "      <th>4</th>\n",
       "      <td>4</td>\n",
       "      <td>(КОЛХОЗ) ИМЕНИ КАЛИНИНА, СПК</td>\n",
       "      <td>1807000378</td>\n",
       "      <td>01.50</td>\n",
       "      <td>16</td>\n",
       "      <td>130639000</td>\n",
       "      <td>145724000</td>\n",
       "      <td>141592000</td>\n",
       "      <td>155453000.0</td>\n",
       "      <td>181461000.0</td>\n",
       "      <td>...</td>\n",
       "      <td>52520000.0</td>\n",
       "      <td>50077000.0</td>\n",
       "      <td>21753000.0</td>\n",
       "      <td>16538000.0</td>\n",
       "      <td>12107000.0</td>\n",
       "      <td>13278000.0</td>\n",
       "      <td>30570000.0</td>\n",
       "      <td>42583000.0</td>\n",
       "      <td>52387000.0</td>\n",
       "      <td>49781000.0</td>\n",
       "    </tr>\n",
       "  </tbody>\n",
       "</table>\n",
       "<p>5 rows × 29 columns</p>\n",
       "</div>"
      ],
      "text/plain": [
       "   Unnamed: 0                  Наименование  Код налогоплательщика  \\\n",
       "0           0    (КОЛХОЗ) ИМ. КАЛИНИНА, СПК             7305000248   \n",
       "1           1    (КОЛХОЗ) ИМ. КРУПСКОЙ, СПК             5651005199   \n",
       "2           2   (КОЛХОЗ) ИМ. КУЙБЫШЕВА, СПК             3226003979   \n",
       "3           3      (КОЛХОЗ) ИМ. ЛЕНИНА, СПК             5226011973   \n",
       "4           4  (КОЛХОЗ) ИМЕНИ КАЛИНИНА, СПК             1807000378   \n",
       "\n",
       "  Код основного вида деятельности  Код ОКФС  2014, Выручка, RUB  \\\n",
       "0                           01.41        16            81948000   \n",
       "1                            01.5        16            21930000   \n",
       "2                           01.41        16            10188000   \n",
       "3                           01.41        16            17646000   \n",
       "4                           01.50        16           130639000   \n",
       "\n",
       "   2015, Выручка, RUB  2016, Выручка, RUB  2017, Выручка, RUB  \\\n",
       "0           116824000           107300000         116429000.0   \n",
       "1            28694000            36743000                 NaN   \n",
       "2            11049000            10413000          11287000.0   \n",
       "3            32154000            40915000          31240000.0   \n",
       "4           145724000           141592000         155453000.0   \n",
       "\n",
       "   2018, Выручка, RUB  ...  2020, Прибыль (убыток) до налогообложения , RUB  \\\n",
       "0         133251000.0  ...                                       51973000.0   \n",
       "1                 NaN  ...                                              NaN   \n",
       "2          11309000.0  ...                                          94000.0   \n",
       "3          24586000.0  ...                                        7720000.0   \n",
       "4         181461000.0  ...                                       52520000.0   \n",
       "\n",
       "   2021, Прибыль (убыток) до налогообложения , RUB  \\\n",
       "0                                       36616000.0   \n",
       "1                                              NaN   \n",
       "2                                        -980000.0   \n",
       "3                                         225000.0   \n",
       "4                                       50077000.0   \n",
       "\n",
       "   2014, Чистая прибыль (убыток), RUB  2015, Чистая прибыль (убыток), RUB  \\\n",
       "0                           8992000.0                          -2406000.0   \n",
       "1                           -449000.0                           -997000.0   \n",
       "2                            809000.0                           1509000.0   \n",
       "3                           2913000.0                           8325000.0   \n",
       "4                          21753000.0                          16538000.0   \n",
       "\n",
       "   2016, Чистая прибыль (убыток), RUB  2017, Чистая прибыль (убыток), RUB  \\\n",
       "0                          16186000.0                          24478000.0   \n",
       "1                         -10729000.0                                 NaN   \n",
       "2                            534000.0                            -99000.0   \n",
       "3                           8419000.0                           2890000.0   \n",
       "4                          12107000.0                          13278000.0   \n",
       "\n",
       "   2018, Чистая прибыль (убыток), RUB  2019, Чистая прибыль (убыток), RUB  \\\n",
       "0                             39000.0                           4264000.0   \n",
       "1                                 NaN                                 NaN   \n",
       "2                          -4223000.0                          -7166000.0   \n",
       "3                           1458000.0                           1393000.0   \n",
       "4                          30570000.0                          42583000.0   \n",
       "\n",
       "   2020, Чистая прибыль (убыток), RUB  2021, Чистая прибыль (убыток), RUB  \n",
       "0                          51973000.0                          36616000.0  \n",
       "1                                 NaN                                 NaN  \n",
       "2                             94000.0                           -980000.0  \n",
       "3                           7720000.0                            225000.0  \n",
       "4                          52387000.0                          49781000.0  \n",
       "\n",
       "[5 rows x 29 columns]"
      ]
     },
     "execution_count": 3,
     "metadata": {},
     "output_type": "execute_result"
    }
   ],
   "source": [
    "un.head()"
   ]
  },
  {
   "cell_type": "code",
   "execution_count": 28,
   "id": "8f3d4577",
   "metadata": {},
   "outputs": [],
   "source": [
    "un = un.iloc[:, 1:]"
   ]
  },
  {
   "cell_type": "code",
   "execution_count": null,
   "id": "c72edd16",
   "metadata": {
    "collapsed": true
   },
   "outputs": [],
   "source": [
    "un[un['Код ОКФС']==50]"
   ]
  },
  {
   "cell_type": "code",
   "execution_count": null,
   "id": "3637126b",
   "metadata": {},
   "outputs": [],
   "source": [
    "un['PropType'] = np.where((un['PropCode'] == 16) | (un['PropCode'] == 18), 'private', un['PropType'])"
   ]
  },
  {
   "cell_type": "code",
   "execution_count": 64,
   "id": "d17c781d",
   "metadata": {},
   "outputs": [
    {
     "data": {
      "text/plain": [
       "[16, 12, 34, 23, 53, 41, 42, 61, 49]"
      ]
     },
     "execution_count": 64,
     "metadata": {},
     "output_type": "execute_result"
    }
   ],
   "source": [
    "treat['Код ОКФС'].unique().tolist()"
   ]
  },
  {
   "cell_type": "code",
   "execution_count": 46,
   "id": "90dc2fda",
   "metadata": {},
   "outputs": [],
   "source": [
    "treat = pd.read_excel(\"C:/Users/fizze/Desktop/trans_filtred2.xlsx\")"
   ]
  },
  {
   "cell_type": "code",
   "execution_count": 80,
   "id": "b4e00744",
   "metadata": {},
   "outputs": [],
   "source": [
    "un = un[un['PropCode'].isin(treat['Код ОКФС'].unique().tolist())]"
   ]
  },
  {
   "cell_type": "code",
   "execution_count": 78,
   "id": "0aa60a37",
   "metadata": {},
   "outputs": [],
   "source": [
    "un.rename({'Код ОКФС': 'PropCode'}, axis=1, inplace=True)"
   ]
  },
  {
   "cell_type": "code",
   "execution_count": 84,
   "id": "a9047480",
   "metadata": {},
   "outputs": [
    {
     "data": {
      "text/plain": [
       "True"
      ]
     },
     "execution_count": 84,
     "metadata": {},
     "output_type": "execute_result"
    }
   ],
   "source": [
    "len(un.PropCode.unique()) == len(treat['Код ОКФС'].unique())"
   ]
  },
  {
   "cell_type": "code",
   "execution_count": 115,
   "id": "854ccc22",
   "metadata": {},
   "outputs": [
    {
     "data": {
      "text/plain": [
       "array([16, 42, 12, 41, 34, 23, 49, 61, 53], dtype=int64)"
      ]
     },
     "execution_count": 115,
     "metadata": {},
     "output_type": "execute_result"
    }
   ],
   "source": [
    "un.PropCode.unique()"
   ]
  },
  {
   "cell_type": "code",
   "execution_count": null,
   "id": "bafc0ad5",
   "metadata": {},
   "outputs": [],
   "source": [
    "# INCLUDES private only\n",
    "un['PropType'] = np.where(un['PropCode'] == 16, 'private', un['PropType'])"
   ]
  },
  {
   "cell_type": "code",
   "execution_count": null,
   "id": "60a91ee6",
   "metadata": {},
   "outputs": [],
   "source": [
    "state1other = [12, 41, 42, 49, 53, 61] ## INCLUDES state, mun., mixed, communities\n",
    "un['PropType'] = np.where(un['PropCode'].isin(state1other), 'state', un['PropType'])"
   ]
  },
  {
   "cell_type": "code",
   "execution_count": null,
   "id": "6294c890",
   "metadata": {},
   "outputs": [],
   "source": [
    "## INCLUDES foreign + private&foreign\n",
    "un['PropType'] = np.where((un['PropCode'] == 23) | (un.PropCode == 34), 'foreign', un['PropType'])"
   ]
  },
  {
   "cell_type": "code",
   "execution_count": 169,
   "id": "d668f52e",
   "metadata": {},
   "outputs": [
    {
     "data": {
      "text/plain": [
       "array([16])"
      ]
     },
     "execution_count": 169,
     "metadata": {},
     "output_type": "execute_result"
    }
   ],
   "source": [
    "np.unique(un[un.PropType == '0']['PropCode'].tolist())"
   ]
  },
  {
   "cell_type": "code",
   "execution_count": 178,
   "id": "f1e1ed87",
   "metadata": {},
   "outputs": [
    {
     "data": {
      "text/plain": [
       "array(['foreign', 'private', 'state'], dtype='<U7')"
      ]
     },
     "execution_count": 178,
     "metadata": {},
     "output_type": "execute_result"
    }
   ],
   "source": [
    "np.unique(un['PropType'].tolist())"
   ]
  },
  {
   "cell_type": "code",
   "execution_count": 179,
   "id": "8c6526db",
   "metadata": {},
   "outputs": [],
   "source": [
    "un.to_excel('upd1_prop.xlsx')"
   ]
  },
  {
   "cell_type": "code",
   "execution_count": 4,
   "id": "16bb1090",
   "metadata": {},
   "outputs": [],
   "source": [
    "upd1 = pd.read_excel(\"C:/Users/fizze/Desktop/90k/upd1_property.xlsx\", ignore_index=True)"
   ]
  },
  {
   "cell_type": "code",
   "execution_count": 31,
   "id": "caad332b",
   "metadata": {},
   "outputs": [],
   "source": [
    "upd1 = upd1.drop('Unnamed: 0', axis=1)"
   ]
  },
  {
   "cell_type": "code",
   "execution_count": 3,
   "id": "d3baf1ae",
   "metadata": {},
   "outputs": [],
   "source": [
    "ig = pd.read_excel(\"main/trans_filtred2.xlsx\")"
   ]
  },
  {
   "cell_type": "code",
   "execution_count": 4,
   "id": "b3c2cc08",
   "metadata": {},
   "outputs": [],
   "source": [
    "cg = pd.read_excel(\"90k/upd1_property.xlsx\")"
   ]
  },
  {
   "cell_type": "code",
   "execution_count": 7,
   "id": "80a55cf7",
   "metadata": {},
   "outputs": [],
   "source": [
    "ig.rename(columns={'Код ОКФС': 'PropCode', 'Код основного вида деятельности': 'ActCode'}, inplace=True)"
   ]
  },
  {
   "cell_type": "code",
   "execution_count": 10,
   "id": "582f90b1",
   "metadata": {},
   "outputs": [
    {
     "data": {
      "text/html": [
       "<div>\n",
       "<style scoped>\n",
       "    .dataframe tbody tr th:only-of-type {\n",
       "        vertical-align: middle;\n",
       "    }\n",
       "\n",
       "    .dataframe tbody tr th {\n",
       "        vertical-align: top;\n",
       "    }\n",
       "\n",
       "    .dataframe thead th {\n",
       "        text-align: right;\n",
       "    }\n",
       "</style>\n",
       "<table border=\"1\" class=\"dataframe\">\n",
       "  <thead>\n",
       "    <tr style=\"text-align: right;\">\n",
       "      <th></th>\n",
       "      <th>Name</th>\n",
       "      <th>INN</th>\n",
       "      <th>ActCode</th>\n",
       "      <th>PropCode</th>\n",
       "      <th>2014, Выручка, RUB</th>\n",
       "      <th>2015, Выручка, RUB</th>\n",
       "      <th>2016, Выручка, RUB</th>\n",
       "      <th>2017, Выручка, RUB</th>\n",
       "      <th>2018, Выручка, RUB</th>\n",
       "      <th>2019, Выручка, RUB</th>\n",
       "      <th>...</th>\n",
       "      <th>2020, Прибыль (убыток) до налогообложения , RUB</th>\n",
       "      <th>2021, Прибыль (убыток) до налогообложения , RUB</th>\n",
       "      <th>2014, Чистая прибыль (убыток), RUB</th>\n",
       "      <th>2015, Чистая прибыль (убыток), RUB</th>\n",
       "      <th>2016, Чистая прибыль (убыток), RUB</th>\n",
       "      <th>2017, Чистая прибыль (убыток), RUB</th>\n",
       "      <th>2018, Чистая прибыль (убыток), RUB</th>\n",
       "      <th>2019, Чистая прибыль (убыток), RUB</th>\n",
       "      <th>2020, Чистая прибыль (убыток), RUB</th>\n",
       "      <th>2021, Чистая прибыль (убыток), RUB</th>\n",
       "    </tr>\n",
       "  </thead>\n",
       "  <tbody>\n",
       "    <tr>\n",
       "      <th>0</th>\n",
       "      <td>АБИ ГРУПП, ЗАО</td>\n",
       "      <td>3328435022</td>\n",
       "      <td>70.22</td>\n",
       "      <td>16</td>\n",
       "      <td>1.201740e+08</td>\n",
       "      <td>1.413170e+08</td>\n",
       "      <td>1.264400e+08</td>\n",
       "      <td>1.201380e+08</td>\n",
       "      <td>1.618730e+08</td>\n",
       "      <td>2.029470e+08</td>\n",
       "      <td>...</td>\n",
       "      <td>4.028200e+07</td>\n",
       "      <td>2.951700e+07</td>\n",
       "      <td>3.039500e+07</td>\n",
       "      <td>1.701600e+07</td>\n",
       "      <td>9.794000e+06</td>\n",
       "      <td>4.640000e+05</td>\n",
       "      <td>1.087100e+07</td>\n",
       "      <td>3.115800e+07</td>\n",
       "      <td>3.204100e+07</td>\n",
       "      <td>2.338800e+07</td>\n",
       "    </tr>\n",
       "    <tr>\n",
       "      <th>1</th>\n",
       "      <td>АБИ ПРОДАКТ, АО</td>\n",
       "      <td>3328458132</td>\n",
       "      <td>70.22</td>\n",
       "      <td>16</td>\n",
       "      <td>7.395810e+08</td>\n",
       "      <td>1.299192e+09</td>\n",
       "      <td>1.832459e+09</td>\n",
       "      <td>2.757634e+09</td>\n",
       "      <td>2.852426e+09</td>\n",
       "      <td>3.188583e+09</td>\n",
       "      <td>...</td>\n",
       "      <td>3.111380e+09</td>\n",
       "      <td>4.238000e+06</td>\n",
       "      <td>5.012300e+08</td>\n",
       "      <td>2.365360e+08</td>\n",
       "      <td>5.352400e+08</td>\n",
       "      <td>3.008589e+09</td>\n",
       "      <td>1.056581e+09</td>\n",
       "      <td>1.835680e+09</td>\n",
       "      <td>3.018320e+09</td>\n",
       "      <td>6.510000e+05</td>\n",
       "    </tr>\n",
       "    <tr>\n",
       "      <th>2</th>\n",
       "      <td>АВТОДОР, ГОСУДАРСТВЕННАЯ КОМПАНИЯ</td>\n",
       "      <td>7717151380</td>\n",
       "      <td>84.11.8</td>\n",
       "      <td>12</td>\n",
       "      <td>7.209280e+08</td>\n",
       "      <td>4.613910e+08</td>\n",
       "      <td>8.096390e+08</td>\n",
       "      <td>2.428650e+08</td>\n",
       "      <td>NaN</td>\n",
       "      <td>NaN</td>\n",
       "      <td>...</td>\n",
       "      <td>NaN</td>\n",
       "      <td>NaN</td>\n",
       "      <td>3.631680e+08</td>\n",
       "      <td>9.854550e+08</td>\n",
       "      <td>9.255340e+08</td>\n",
       "      <td>5.013900e+07</td>\n",
       "      <td>NaN</td>\n",
       "      <td>NaN</td>\n",
       "      <td>NaN</td>\n",
       "      <td>NaN</td>\n",
       "    </tr>\n",
       "    <tr>\n",
       "      <th>3</th>\n",
       "      <td>АГРОКОМПЛЕКС ИМ. Н.И.ТКАЧЕВА, АО ФИРМА</td>\n",
       "      <td>2328000083</td>\n",
       "      <td>01.50</td>\n",
       "      <td>16</td>\n",
       "      <td>2.653824e+10</td>\n",
       "      <td>3.868161e+10</td>\n",
       "      <td>4.475645e+10</td>\n",
       "      <td>4.667984e+10</td>\n",
       "      <td>5.002613e+10</td>\n",
       "      <td>5.319341e+10</td>\n",
       "      <td>...</td>\n",
       "      <td>2.686656e+09</td>\n",
       "      <td>9.080602e+09</td>\n",
       "      <td>4.145442e+09</td>\n",
       "      <td>6.645393e+09</td>\n",
       "      <td>2.944203e+09</td>\n",
       "      <td>-2.112012e+09</td>\n",
       "      <td>-2.924708e+09</td>\n",
       "      <td>1.641324e+09</td>\n",
       "      <td>2.673351e+09</td>\n",
       "      <td>8.600205e+09</td>\n",
       "    </tr>\n",
       "    <tr>\n",
       "      <th>4</th>\n",
       "      <td>АГРОСИЛА, АО</td>\n",
       "      <td>1604010557</td>\n",
       "      <td>69.10</td>\n",
       "      <td>16</td>\n",
       "      <td>NaN</td>\n",
       "      <td>NaN</td>\n",
       "      <td>4.040600e+07</td>\n",
       "      <td>3.228218e+09</td>\n",
       "      <td>3.273816e+09</td>\n",
       "      <td>3.931738e+09</td>\n",
       "      <td>...</td>\n",
       "      <td>1.534600e+07</td>\n",
       "      <td>9.938700e+07</td>\n",
       "      <td>NaN</td>\n",
       "      <td>NaN</td>\n",
       "      <td>-1.019000e+06</td>\n",
       "      <td>2.094900e+07</td>\n",
       "      <td>2.024800e+07</td>\n",
       "      <td>5.184000e+07</td>\n",
       "      <td>1.154100e+07</td>\n",
       "      <td>7.441900e+07</td>\n",
       "    </tr>\n",
       "  </tbody>\n",
       "</table>\n",
       "<p>5 rows × 28 columns</p>\n",
       "</div>"
      ],
      "text/plain": [
       "                                     Name         INN  ActCode  PropCode  \\\n",
       "0                          АБИ ГРУПП, ЗАО  3328435022    70.22        16   \n",
       "1                         АБИ ПРОДАКТ, АО  3328458132    70.22        16   \n",
       "2       АВТОДОР, ГОСУДАРСТВЕННАЯ КОМПАНИЯ  7717151380  84.11.8        12   \n",
       "3  АГРОКОМПЛЕКС ИМ. Н.И.ТКАЧЕВА, АО ФИРМА  2328000083    01.50        16   \n",
       "4                            АГРОСИЛА, АО  1604010557    69.10        16   \n",
       "\n",
       "   2014, Выручка, RUB  2015, Выручка, RUB  2016, Выручка, RUB  \\\n",
       "0        1.201740e+08        1.413170e+08        1.264400e+08   \n",
       "1        7.395810e+08        1.299192e+09        1.832459e+09   \n",
       "2        7.209280e+08        4.613910e+08        8.096390e+08   \n",
       "3        2.653824e+10        3.868161e+10        4.475645e+10   \n",
       "4                 NaN                 NaN        4.040600e+07   \n",
       "\n",
       "   2017, Выручка, RUB  2018, Выручка, RUB  2019, Выручка, RUB  ...  \\\n",
       "0        1.201380e+08        1.618730e+08        2.029470e+08  ...   \n",
       "1        2.757634e+09        2.852426e+09        3.188583e+09  ...   \n",
       "2        2.428650e+08                 NaN                 NaN  ...   \n",
       "3        4.667984e+10        5.002613e+10        5.319341e+10  ...   \n",
       "4        3.228218e+09        3.273816e+09        3.931738e+09  ...   \n",
       "\n",
       "   2020, Прибыль (убыток) до налогообложения , RUB  \\\n",
       "0                                     4.028200e+07   \n",
       "1                                     3.111380e+09   \n",
       "2                                              NaN   \n",
       "3                                     2.686656e+09   \n",
       "4                                     1.534600e+07   \n",
       "\n",
       "   2021, Прибыль (убыток) до налогообложения , RUB  \\\n",
       "0                                     2.951700e+07   \n",
       "1                                     4.238000e+06   \n",
       "2                                              NaN   \n",
       "3                                     9.080602e+09   \n",
       "4                                     9.938700e+07   \n",
       "\n",
       "   2014, Чистая прибыль (убыток), RUB  2015, Чистая прибыль (убыток), RUB  \\\n",
       "0                        3.039500e+07                        1.701600e+07   \n",
       "1                        5.012300e+08                        2.365360e+08   \n",
       "2                        3.631680e+08                        9.854550e+08   \n",
       "3                        4.145442e+09                        6.645393e+09   \n",
       "4                                 NaN                                 NaN   \n",
       "\n",
       "   2016, Чистая прибыль (убыток), RUB  2017, Чистая прибыль (убыток), RUB  \\\n",
       "0                        9.794000e+06                        4.640000e+05   \n",
       "1                        5.352400e+08                        3.008589e+09   \n",
       "2                        9.255340e+08                        5.013900e+07   \n",
       "3                        2.944203e+09                       -2.112012e+09   \n",
       "4                       -1.019000e+06                        2.094900e+07   \n",
       "\n",
       "   2018, Чистая прибыль (убыток), RUB  2019, Чистая прибыль (убыток), RUB  \\\n",
       "0                        1.087100e+07                        3.115800e+07   \n",
       "1                        1.056581e+09                        1.835680e+09   \n",
       "2                                 NaN                                 NaN   \n",
       "3                       -2.924708e+09                        1.641324e+09   \n",
       "4                        2.024800e+07                        5.184000e+07   \n",
       "\n",
       "   2020, Чистая прибыль (убыток), RUB  2021, Чистая прибыль (убыток), RUB  \n",
       "0                        3.204100e+07                        2.338800e+07  \n",
       "1                        3.018320e+09                        6.510000e+05  \n",
       "2                                 NaN                                 NaN  \n",
       "3                        2.673351e+09                        8.600205e+09  \n",
       "4                        1.154100e+07                        7.441900e+07  \n",
       "\n",
       "[5 rows x 28 columns]"
      ]
     },
     "execution_count": 10,
     "metadata": {},
     "output_type": "execute_result"
    }
   ],
   "source": [
    "ig.head()"
   ]
  },
  {
   "cell_type": "code",
   "execution_count": 22,
   "id": "6aa34026",
   "metadata": {},
   "outputs": [],
   "source": [
    "del cg['Unnamed: 0']"
   ]
  },
  {
   "cell_type": "code",
   "execution_count": 18,
   "id": "25bfa6b7",
   "metadata": {},
   "outputs": [],
   "source": [
    "cg.rename(columns={'Код налогоплательщика': 'INN', 'Наименование': 'Name', 'Код основного вида деятельности': 'ActCode'}, inplace=True)"
   ]
  },
  {
   "cell_type": "code",
   "execution_count": 23,
   "id": "4ab33c9d",
   "metadata": {},
   "outputs": [
    {
     "data": {
      "text/html": [
       "<div>\n",
       "<style scoped>\n",
       "    .dataframe tbody tr th:only-of-type {\n",
       "        vertical-align: middle;\n",
       "    }\n",
       "\n",
       "    .dataframe tbody tr th {\n",
       "        vertical-align: top;\n",
       "    }\n",
       "\n",
       "    .dataframe thead th {\n",
       "        text-align: right;\n",
       "    }\n",
       "</style>\n",
       "<table border=\"1\" class=\"dataframe\">\n",
       "  <thead>\n",
       "    <tr style=\"text-align: right;\">\n",
       "      <th></th>\n",
       "      <th>Name</th>\n",
       "      <th>INN</th>\n",
       "      <th>ActCode</th>\n",
       "      <th>PropCode</th>\n",
       "      <th>2014, Выручка, RUB</th>\n",
       "      <th>2015, Выручка, RUB</th>\n",
       "      <th>2016, Выручка, RUB</th>\n",
       "      <th>2017, Выручка, RUB</th>\n",
       "      <th>2018, Выручка, RUB</th>\n",
       "      <th>2019, Выручка, RUB</th>\n",
       "      <th>...</th>\n",
       "      <th>2021, Прибыль (убыток) до налогообложения , RUB</th>\n",
       "      <th>2014, Чистая прибыль (убыток), RUB</th>\n",
       "      <th>2015, Чистая прибыль (убыток), RUB</th>\n",
       "      <th>2016, Чистая прибыль (убыток), RUB</th>\n",
       "      <th>2017, Чистая прибыль (убыток), RUB</th>\n",
       "      <th>2018, Чистая прибыль (убыток), RUB</th>\n",
       "      <th>2019, Чистая прибыль (убыток), RUB</th>\n",
       "      <th>2020, Чистая прибыль (убыток), RUB</th>\n",
       "      <th>2021, Чистая прибыль (убыток), RUB</th>\n",
       "      <th>PropType</th>\n",
       "    </tr>\n",
       "  </thead>\n",
       "  <tbody>\n",
       "    <tr>\n",
       "      <th>0</th>\n",
       "      <td>(КОЛХОЗ) ИМ. КАЛИНИНА, СПК</td>\n",
       "      <td>7305000248</td>\n",
       "      <td>01.41</td>\n",
       "      <td>16</td>\n",
       "      <td>81948000</td>\n",
       "      <td>116824000</td>\n",
       "      <td>107300000</td>\n",
       "      <td>116429000.0</td>\n",
       "      <td>133251000.0</td>\n",
       "      <td>129910000.0</td>\n",
       "      <td>...</td>\n",
       "      <td>36616000.0</td>\n",
       "      <td>8992000.0</td>\n",
       "      <td>-2406000.0</td>\n",
       "      <td>16186000.0</td>\n",
       "      <td>24478000.0</td>\n",
       "      <td>39000.0</td>\n",
       "      <td>4264000.0</td>\n",
       "      <td>51973000.0</td>\n",
       "      <td>36616000.0</td>\n",
       "      <td>private</td>\n",
       "    </tr>\n",
       "    <tr>\n",
       "      <th>1</th>\n",
       "      <td>(КОЛХОЗ) ИМ. КРУПСКОЙ, СПК</td>\n",
       "      <td>5651005199</td>\n",
       "      <td>01.5</td>\n",
       "      <td>16</td>\n",
       "      <td>21930000</td>\n",
       "      <td>28694000</td>\n",
       "      <td>36743000</td>\n",
       "      <td>NaN</td>\n",
       "      <td>NaN</td>\n",
       "      <td>NaN</td>\n",
       "      <td>...</td>\n",
       "      <td>NaN</td>\n",
       "      <td>-449000.0</td>\n",
       "      <td>-997000.0</td>\n",
       "      <td>-10729000.0</td>\n",
       "      <td>NaN</td>\n",
       "      <td>NaN</td>\n",
       "      <td>NaN</td>\n",
       "      <td>NaN</td>\n",
       "      <td>NaN</td>\n",
       "      <td>private</td>\n",
       "    </tr>\n",
       "    <tr>\n",
       "      <th>2</th>\n",
       "      <td>(КОЛХОЗ) ИМ. КУЙБЫШЕВА, СПК</td>\n",
       "      <td>3226003979</td>\n",
       "      <td>01.41</td>\n",
       "      <td>16</td>\n",
       "      <td>10188000</td>\n",
       "      <td>11049000</td>\n",
       "      <td>10413000</td>\n",
       "      <td>11287000.0</td>\n",
       "      <td>11309000.0</td>\n",
       "      <td>12847000.0</td>\n",
       "      <td>...</td>\n",
       "      <td>-980000.0</td>\n",
       "      <td>809000.0</td>\n",
       "      <td>1509000.0</td>\n",
       "      <td>534000.0</td>\n",
       "      <td>-99000.0</td>\n",
       "      <td>-4223000.0</td>\n",
       "      <td>-7166000.0</td>\n",
       "      <td>94000.0</td>\n",
       "      <td>-980000.0</td>\n",
       "      <td>private</td>\n",
       "    </tr>\n",
       "    <tr>\n",
       "      <th>3</th>\n",
       "      <td>(КОЛХОЗ) ИМ. ЛЕНИНА, СПК</td>\n",
       "      <td>5226011973</td>\n",
       "      <td>01.41</td>\n",
       "      <td>16</td>\n",
       "      <td>17646000</td>\n",
       "      <td>32154000</td>\n",
       "      <td>40915000</td>\n",
       "      <td>31240000.0</td>\n",
       "      <td>24586000.0</td>\n",
       "      <td>27445000.0</td>\n",
       "      <td>...</td>\n",
       "      <td>225000.0</td>\n",
       "      <td>2913000.0</td>\n",
       "      <td>8325000.0</td>\n",
       "      <td>8419000.0</td>\n",
       "      <td>2890000.0</td>\n",
       "      <td>1458000.0</td>\n",
       "      <td>1393000.0</td>\n",
       "      <td>7720000.0</td>\n",
       "      <td>225000.0</td>\n",
       "      <td>private</td>\n",
       "    </tr>\n",
       "    <tr>\n",
       "      <th>4</th>\n",
       "      <td>(КОЛХОЗ) ИМЕНИ КАЛИНИНА, СПК</td>\n",
       "      <td>1807000378</td>\n",
       "      <td>01.50</td>\n",
       "      <td>16</td>\n",
       "      <td>130639000</td>\n",
       "      <td>145724000</td>\n",
       "      <td>141592000</td>\n",
       "      <td>155453000.0</td>\n",
       "      <td>181461000.0</td>\n",
       "      <td>223975000.0</td>\n",
       "      <td>...</td>\n",
       "      <td>50077000.0</td>\n",
       "      <td>21753000.0</td>\n",
       "      <td>16538000.0</td>\n",
       "      <td>12107000.0</td>\n",
       "      <td>13278000.0</td>\n",
       "      <td>30570000.0</td>\n",
       "      <td>42583000.0</td>\n",
       "      <td>52387000.0</td>\n",
       "      <td>49781000.0</td>\n",
       "      <td>private</td>\n",
       "    </tr>\n",
       "  </tbody>\n",
       "</table>\n",
       "<p>5 rows × 29 columns</p>\n",
       "</div>"
      ],
      "text/plain": [
       "                           Name         INN ActCode  PropCode  \\\n",
       "0    (КОЛХОЗ) ИМ. КАЛИНИНА, СПК  7305000248   01.41        16   \n",
       "1    (КОЛХОЗ) ИМ. КРУПСКОЙ, СПК  5651005199    01.5        16   \n",
       "2   (КОЛХОЗ) ИМ. КУЙБЫШЕВА, СПК  3226003979   01.41        16   \n",
       "3      (КОЛХОЗ) ИМ. ЛЕНИНА, СПК  5226011973   01.41        16   \n",
       "4  (КОЛХОЗ) ИМЕНИ КАЛИНИНА, СПК  1807000378   01.50        16   \n",
       "\n",
       "   2014, Выручка, RUB  2015, Выручка, RUB  2016, Выручка, RUB  \\\n",
       "0            81948000           116824000           107300000   \n",
       "1            21930000            28694000            36743000   \n",
       "2            10188000            11049000            10413000   \n",
       "3            17646000            32154000            40915000   \n",
       "4           130639000           145724000           141592000   \n",
       "\n",
       "   2017, Выручка, RUB  2018, Выручка, RUB  2019, Выручка, RUB  ...  \\\n",
       "0         116429000.0         133251000.0         129910000.0  ...   \n",
       "1                 NaN                 NaN                 NaN  ...   \n",
       "2          11287000.0          11309000.0          12847000.0  ...   \n",
       "3          31240000.0          24586000.0          27445000.0  ...   \n",
       "4         155453000.0         181461000.0         223975000.0  ...   \n",
       "\n",
       "   2021, Прибыль (убыток) до налогообложения , RUB  \\\n",
       "0                                       36616000.0   \n",
       "1                                              NaN   \n",
       "2                                        -980000.0   \n",
       "3                                         225000.0   \n",
       "4                                       50077000.0   \n",
       "\n",
       "   2014, Чистая прибыль (убыток), RUB  2015, Чистая прибыль (убыток), RUB  \\\n",
       "0                           8992000.0                          -2406000.0   \n",
       "1                           -449000.0                           -997000.0   \n",
       "2                            809000.0                           1509000.0   \n",
       "3                           2913000.0                           8325000.0   \n",
       "4                          21753000.0                          16538000.0   \n",
       "\n",
       "   2016, Чистая прибыль (убыток), RUB  2017, Чистая прибыль (убыток), RUB  \\\n",
       "0                          16186000.0                          24478000.0   \n",
       "1                         -10729000.0                                 NaN   \n",
       "2                            534000.0                            -99000.0   \n",
       "3                           8419000.0                           2890000.0   \n",
       "4                          12107000.0                          13278000.0   \n",
       "\n",
       "   2018, Чистая прибыль (убыток), RUB  2019, Чистая прибыль (убыток), RUB  \\\n",
       "0                             39000.0                           4264000.0   \n",
       "1                                 NaN                                 NaN   \n",
       "2                          -4223000.0                          -7166000.0   \n",
       "3                           1458000.0                           1393000.0   \n",
       "4                          30570000.0                          42583000.0   \n",
       "\n",
       "   2020, Чистая прибыль (убыток), RUB  2021, Чистая прибыль (убыток), RUB  \\\n",
       "0                          51973000.0                          36616000.0   \n",
       "1                                 NaN                                 NaN   \n",
       "2                             94000.0                           -980000.0   \n",
       "3                           7720000.0                            225000.0   \n",
       "4                          52387000.0                          49781000.0   \n",
       "\n",
       "   PropType  \n",
       "0   private  \n",
       "1   private  \n",
       "2   private  \n",
       "3   private  \n",
       "4   private  \n",
       "\n",
       "[5 rows x 29 columns]"
      ]
     },
     "execution_count": 23,
     "metadata": {},
     "output_type": "execute_result"
    }
   ],
   "source": [
    "cg.head()"
   ]
  },
  {
   "cell_type": "code",
   "execution_count": 26,
   "id": "2690bc16",
   "metadata": {},
   "outputs": [
    {
     "data": {
      "text/plain": [
       "Index(['Name', 'INN', 'ActCode', 'PropCode', '2014, Выручка, RUB',\n",
       "       '2015, Выручка, RUB', '2016, Выручка, RUB', '2017, Выручка, RUB',\n",
       "       '2018, Выручка, RUB', '2019, Выручка, RUB', '2020, Выручка, RUB',\n",
       "       '2021, Выручка, RUB', '2014, Прибыль (убыток) до налогообложения , RUB',\n",
       "       '2015, Прибыль (убыток) до налогообложения , RUB',\n",
       "       '2016, Прибыль (убыток) до налогообложения , RUB',\n",
       "       '2017, Прибыль (убыток) до налогообложения , RUB',\n",
       "       '2018, Прибыль (убыток) до налогообложения , RUB',\n",
       "       '2019, Прибыль (убыток) до налогообложения , RUB',\n",
       "       '2020, Прибыль (убыток) до налогообложения , RUB',\n",
       "       '2021, Прибыль (убыток) до налогообложения , RUB',\n",
       "       '2014, Чистая прибыль (убыток), RUB',\n",
       "       '2015, Чистая прибыль (убыток), RUB',\n",
       "       '2016, Чистая прибыль (убыток), RUB',\n",
       "       '2017, Чистая прибыль (убыток), RUB',\n",
       "       '2018, Чистая прибыль (убыток), RUB',\n",
       "       '2019, Чистая прибыль (убыток), RUB',\n",
       "       '2020, Чистая прибыль (убыток), RUB',\n",
       "       '2021, Чистая прибыль (убыток), RUB'],\n",
       "      dtype='object')"
      ]
     },
     "execution_count": 26,
     "metadata": {},
     "output_type": "execute_result"
    }
   ],
   "source": [
    "ig.columns"
   ]
  },
  {
   "cell_type": "code",
   "execution_count": 27,
   "id": "cb638778",
   "metadata": {},
   "outputs": [
    {
     "data": {
      "text/plain": [
       "Index(['Name', 'INN', 'ActCode', 'PropCode', '2014, Выручка, RUB',\n",
       "       '2015, Выручка, RUB', '2016, Выручка, RUB', '2017, Выручка, RUB',\n",
       "       '2018, Выручка, RUB', '2019, Выручка, RUB', '2020, Выручка, RUB',\n",
       "       '2021, Выручка, RUB', '2014, Прибыль (убыток) до налогообложения , RUB',\n",
       "       '2015, Прибыль (убыток) до налогообложения , RUB',\n",
       "       '2016, Прибыль (убыток) до налогообложения , RUB',\n",
       "       '2017, Прибыль (убыток) до налогообложения , RUB',\n",
       "       '2018, Прибыль (убыток) до налогообложения , RUB',\n",
       "       '2019, Прибыль (убыток) до налогообложения , RUB',\n",
       "       '2020, Прибыль (убыток) до налогообложения , RUB',\n",
       "       '2021, Прибыль (убыток) до налогообложения , RUB',\n",
       "       '2014, Чистая прибыль (убыток), RUB',\n",
       "       '2015, Чистая прибыль (убыток), RUB',\n",
       "       '2016, Чистая прибыль (убыток), RUB',\n",
       "       '2017, Чистая прибыль (убыток), RUB',\n",
       "       '2018, Чистая прибыль (убыток), RUB',\n",
       "       '2019, Чистая прибыль (убыток), RUB',\n",
       "       '2020, Чистая прибыль (убыток), RUB',\n",
       "       '2021, Чистая прибыль (убыток), RUB', 'PropType'],\n",
       "      dtype='object')"
      ]
     },
     "execution_count": 27,
     "metadata": {},
     "output_type": "execute_result"
    }
   ],
   "source": [
    "cg.columns"
   ]
  },
  {
   "attachments": {},
   "cell_type": "markdown",
   "id": "fb0b2ea4",
   "metadata": {},
   "source": [
    "Create a PropType for interaction group"
   ]
  },
  {
   "cell_type": "code",
   "execution_count": 28,
   "id": "d22b029d",
   "metadata": {},
   "outputs": [
    {
     "data": {
      "text/plain": [
       "[12, 16, 23, 34, 41, 42, 49, 53, 61]"
      ]
     },
     "execution_count": 28,
     "metadata": {},
     "output_type": "execute_result"
    }
   ],
   "source": [
    "#checking\n",
    "sorted(ig.PropCode.unique())"
   ]
  },
  {
   "cell_type": "code",
   "execution_count": 29,
   "id": "25adabf2",
   "metadata": {},
   "outputs": [
    {
     "data": {
      "text/plain": [
       "[12, 16, 23, 34, 41, 42, 49, 53, 61]"
      ]
     },
     "execution_count": 29,
     "metadata": {},
     "output_type": "execute_result"
    }
   ],
   "source": [
    "sorted(cg.PropCode.unique())"
   ]
  },
  {
   "cell_type": "code",
   "execution_count": 30,
   "id": "5d14d586",
   "metadata": {},
   "outputs": [],
   "source": [
    "ig['PropType'] = 0"
   ]
  },
  {
   "cell_type": "code",
   "execution_count": 31,
   "id": "2c4efc37",
   "metadata": {},
   "outputs": [],
   "source": [
    "# INCLUDES private only\n",
    "ig['PropType'] = np.where(ig['PropCode'] == 16, 'private', ig['PropType'])"
   ]
  },
  {
   "cell_type": "code",
   "execution_count": 32,
   "id": "f501b1ca",
   "metadata": {},
   "outputs": [],
   "source": [
    "state1other = [12, 41, 42, 49, 53, 61] \n",
    "## INCLUDES state, mun., mixed, communities\n",
    "ig['PropType'] = np.where(ig['PropCode'].isin(state1other), 'state', ig['PropType'])"
   ]
  },
  {
   "cell_type": "code",
   "execution_count": 33,
   "id": "4ed19752",
   "metadata": {},
   "outputs": [],
   "source": [
    "## INCLUDES foreign + private&foreign\n",
    "ig['PropType'] = np.where((ig['PropCode'] == 23) | (ig.PropCode == 34), 'foreign', ig['PropType'])"
   ]
  },
  {
   "cell_type": "code",
   "execution_count": 35,
   "id": "00a740ab",
   "metadata": {},
   "outputs": [
    {
     "data": {
      "text/plain": [
       "array([ True,  True,  True,  True,  True,  True,  True,  True,  True,\n",
       "        True,  True,  True,  True,  True,  True,  True,  True,  True,\n",
       "        True,  True,  True,  True,  True,  True,  True,  True,  True,\n",
       "        True,  True])"
      ]
     },
     "execution_count": 35,
     "metadata": {},
     "output_type": "execute_result"
    }
   ],
   "source": [
    "ig.columns == cg.columns"
   ]
  },
  {
   "cell_type": "code",
   "execution_count": 36,
   "id": "adba22c5",
   "metadata": {},
   "outputs": [],
   "source": [
    "ig.to_csv('readyig.csv')"
   ]
  },
  {
   "cell_type": "code",
   "execution_count": 37,
   "id": "dbc73f9d",
   "metadata": {},
   "outputs": [],
   "source": [
    "cg.to_csv('readycg.csv')"
   ]
  },
  {
   "cell_type": "code",
   "execution_count": 38,
   "id": "1ffd7c70",
   "metadata": {},
   "outputs": [],
   "source": [
    "ig['treat'] = 1\n",
    "cg['treat'] = 0"
   ]
  },
  {
   "cell_type": "code",
   "execution_count": 57,
   "id": "0a0c26de",
   "metadata": {},
   "outputs": [],
   "source": [
    "conca = pd.concat([ig, cg])"
   ]
  },
  {
   "cell_type": "code",
   "execution_count": 45,
   "id": "1af0a0b4",
   "metadata": {},
   "outputs": [
    {
     "data": {
      "text/html": [
       "<div>\n",
       "<style scoped>\n",
       "    .dataframe tbody tr th:only-of-type {\n",
       "        vertical-align: middle;\n",
       "    }\n",
       "\n",
       "    .dataframe tbody tr th {\n",
       "        vertical-align: top;\n",
       "    }\n",
       "\n",
       "    .dataframe thead th {\n",
       "        text-align: right;\n",
       "    }\n",
       "</style>\n",
       "<table border=\"1\" class=\"dataframe\">\n",
       "  <thead>\n",
       "    <tr style=\"text-align: right;\">\n",
       "      <th></th>\n",
       "      <th>Name</th>\n",
       "      <th>INN</th>\n",
       "      <th>ActCode</th>\n",
       "      <th>PropCode</th>\n",
       "      <th>2014, Выручка, RUB</th>\n",
       "      <th>2015, Выручка, RUB</th>\n",
       "      <th>2016, Выручка, RUB</th>\n",
       "      <th>2017, Выручка, RUB</th>\n",
       "      <th>2018, Выручка, RUB</th>\n",
       "      <th>2019, Выручка, RUB</th>\n",
       "      <th>...</th>\n",
       "      <th>2014, Чистая прибыль (убыток), RUB</th>\n",
       "      <th>2015, Чистая прибыль (убыток), RUB</th>\n",
       "      <th>2016, Чистая прибыль (убыток), RUB</th>\n",
       "      <th>2017, Чистая прибыль (убыток), RUB</th>\n",
       "      <th>2018, Чистая прибыль (убыток), RUB</th>\n",
       "      <th>2019, Чистая прибыль (убыток), RUB</th>\n",
       "      <th>2020, Чистая прибыль (убыток), RUB</th>\n",
       "      <th>2021, Чистая прибыль (убыток), RUB</th>\n",
       "      <th>PropType</th>\n",
       "      <th>treat</th>\n",
       "    </tr>\n",
       "  </thead>\n",
       "  <tbody>\n",
       "    <tr>\n",
       "      <th>0</th>\n",
       "      <td>АБИ ГРУПП, ЗАО</td>\n",
       "      <td>3328435022</td>\n",
       "      <td>70.22</td>\n",
       "      <td>16</td>\n",
       "      <td>1.201740e+08</td>\n",
       "      <td>1.413170e+08</td>\n",
       "      <td>1.264400e+08</td>\n",
       "      <td>1.201380e+08</td>\n",
       "      <td>1.618730e+08</td>\n",
       "      <td>2.029470e+08</td>\n",
       "      <td>...</td>\n",
       "      <td>3.039500e+07</td>\n",
       "      <td>1.701600e+07</td>\n",
       "      <td>9.794000e+06</td>\n",
       "      <td>4.640000e+05</td>\n",
       "      <td>1.087100e+07</td>\n",
       "      <td>3.115800e+07</td>\n",
       "      <td>3.204100e+07</td>\n",
       "      <td>2.338800e+07</td>\n",
       "      <td>private</td>\n",
       "      <td>1</td>\n",
       "    </tr>\n",
       "    <tr>\n",
       "      <th>1</th>\n",
       "      <td>АБИ ПРОДАКТ, АО</td>\n",
       "      <td>3328458132</td>\n",
       "      <td>70.22</td>\n",
       "      <td>16</td>\n",
       "      <td>7.395810e+08</td>\n",
       "      <td>1.299192e+09</td>\n",
       "      <td>1.832459e+09</td>\n",
       "      <td>2.757634e+09</td>\n",
       "      <td>2.852426e+09</td>\n",
       "      <td>3.188583e+09</td>\n",
       "      <td>...</td>\n",
       "      <td>5.012300e+08</td>\n",
       "      <td>2.365360e+08</td>\n",
       "      <td>5.352400e+08</td>\n",
       "      <td>3.008589e+09</td>\n",
       "      <td>1.056581e+09</td>\n",
       "      <td>1.835680e+09</td>\n",
       "      <td>3.018320e+09</td>\n",
       "      <td>6.510000e+05</td>\n",
       "      <td>private</td>\n",
       "      <td>1</td>\n",
       "    </tr>\n",
       "    <tr>\n",
       "      <th>2</th>\n",
       "      <td>АВТОДОР, ГОСУДАРСТВЕННАЯ КОМПАНИЯ</td>\n",
       "      <td>7717151380</td>\n",
       "      <td>84.11.8</td>\n",
       "      <td>12</td>\n",
       "      <td>7.209280e+08</td>\n",
       "      <td>4.613910e+08</td>\n",
       "      <td>8.096390e+08</td>\n",
       "      <td>2.428650e+08</td>\n",
       "      <td>NaN</td>\n",
       "      <td>NaN</td>\n",
       "      <td>...</td>\n",
       "      <td>3.631680e+08</td>\n",
       "      <td>9.854550e+08</td>\n",
       "      <td>9.255340e+08</td>\n",
       "      <td>5.013900e+07</td>\n",
       "      <td>NaN</td>\n",
       "      <td>NaN</td>\n",
       "      <td>NaN</td>\n",
       "      <td>NaN</td>\n",
       "      <td>state</td>\n",
       "      <td>1</td>\n",
       "    </tr>\n",
       "    <tr>\n",
       "      <th>3</th>\n",
       "      <td>АГРОКОМПЛЕКС ИМ. Н.И.ТКАЧЕВА, АО ФИРМА</td>\n",
       "      <td>2328000083</td>\n",
       "      <td>01.50</td>\n",
       "      <td>16</td>\n",
       "      <td>2.653824e+10</td>\n",
       "      <td>3.868161e+10</td>\n",
       "      <td>4.475645e+10</td>\n",
       "      <td>4.667984e+10</td>\n",
       "      <td>5.002613e+10</td>\n",
       "      <td>5.319341e+10</td>\n",
       "      <td>...</td>\n",
       "      <td>4.145442e+09</td>\n",
       "      <td>6.645393e+09</td>\n",
       "      <td>2.944203e+09</td>\n",
       "      <td>-2.112012e+09</td>\n",
       "      <td>-2.924708e+09</td>\n",
       "      <td>1.641324e+09</td>\n",
       "      <td>2.673351e+09</td>\n",
       "      <td>8.600205e+09</td>\n",
       "      <td>private</td>\n",
       "      <td>1</td>\n",
       "    </tr>\n",
       "    <tr>\n",
       "      <th>4</th>\n",
       "      <td>АГРОСИЛА, АО</td>\n",
       "      <td>1604010557</td>\n",
       "      <td>69.10</td>\n",
       "      <td>16</td>\n",
       "      <td>NaN</td>\n",
       "      <td>NaN</td>\n",
       "      <td>4.040600e+07</td>\n",
       "      <td>3.228218e+09</td>\n",
       "      <td>3.273816e+09</td>\n",
       "      <td>3.931738e+09</td>\n",
       "      <td>...</td>\n",
       "      <td>NaN</td>\n",
       "      <td>NaN</td>\n",
       "      <td>-1.019000e+06</td>\n",
       "      <td>2.094900e+07</td>\n",
       "      <td>2.024800e+07</td>\n",
       "      <td>5.184000e+07</td>\n",
       "      <td>1.154100e+07</td>\n",
       "      <td>7.441900e+07</td>\n",
       "      <td>private</td>\n",
       "      <td>1</td>\n",
       "    </tr>\n",
       "  </tbody>\n",
       "</table>\n",
       "<p>5 rows × 30 columns</p>\n",
       "</div>"
      ],
      "text/plain": [
       "                                     Name         INN  ActCode  PropCode  \\\n",
       "0                          АБИ ГРУПП, ЗАО  3328435022    70.22        16   \n",
       "1                         АБИ ПРОДАКТ, АО  3328458132    70.22        16   \n",
       "2       АВТОДОР, ГОСУДАРСТВЕННАЯ КОМПАНИЯ  7717151380  84.11.8        12   \n",
       "3  АГРОКОМПЛЕКС ИМ. Н.И.ТКАЧЕВА, АО ФИРМА  2328000083    01.50        16   \n",
       "4                            АГРОСИЛА, АО  1604010557    69.10        16   \n",
       "\n",
       "   2014, Выручка, RUB  2015, Выручка, RUB  2016, Выручка, RUB  \\\n",
       "0        1.201740e+08        1.413170e+08        1.264400e+08   \n",
       "1        7.395810e+08        1.299192e+09        1.832459e+09   \n",
       "2        7.209280e+08        4.613910e+08        8.096390e+08   \n",
       "3        2.653824e+10        3.868161e+10        4.475645e+10   \n",
       "4                 NaN                 NaN        4.040600e+07   \n",
       "\n",
       "   2017, Выручка, RUB  2018, Выручка, RUB  2019, Выручка, RUB  ...  \\\n",
       "0        1.201380e+08        1.618730e+08        2.029470e+08  ...   \n",
       "1        2.757634e+09        2.852426e+09        3.188583e+09  ...   \n",
       "2        2.428650e+08                 NaN                 NaN  ...   \n",
       "3        4.667984e+10        5.002613e+10        5.319341e+10  ...   \n",
       "4        3.228218e+09        3.273816e+09        3.931738e+09  ...   \n",
       "\n",
       "   2014, Чистая прибыль (убыток), RUB  2015, Чистая прибыль (убыток), RUB  \\\n",
       "0                        3.039500e+07                        1.701600e+07   \n",
       "1                        5.012300e+08                        2.365360e+08   \n",
       "2                        3.631680e+08                        9.854550e+08   \n",
       "3                        4.145442e+09                        6.645393e+09   \n",
       "4                                 NaN                                 NaN   \n",
       "\n",
       "   2016, Чистая прибыль (убыток), RUB  2017, Чистая прибыль (убыток), RUB  \\\n",
       "0                        9.794000e+06                        4.640000e+05   \n",
       "1                        5.352400e+08                        3.008589e+09   \n",
       "2                        9.255340e+08                        5.013900e+07   \n",
       "3                        2.944203e+09                       -2.112012e+09   \n",
       "4                       -1.019000e+06                        2.094900e+07   \n",
       "\n",
       "   2018, Чистая прибыль (убыток), RUB  2019, Чистая прибыль (убыток), RUB  \\\n",
       "0                        1.087100e+07                        3.115800e+07   \n",
       "1                        1.056581e+09                        1.835680e+09   \n",
       "2                                 NaN                                 NaN   \n",
       "3                       -2.924708e+09                        1.641324e+09   \n",
       "4                        2.024800e+07                        5.184000e+07   \n",
       "\n",
       "   2020, Чистая прибыль (убыток), RUB  2021, Чистая прибыль (убыток), RUB  \\\n",
       "0                        3.204100e+07                        2.338800e+07   \n",
       "1                        3.018320e+09                        6.510000e+05   \n",
       "2                                 NaN                                 NaN   \n",
       "3                        2.673351e+09                        8.600205e+09   \n",
       "4                        1.154100e+07                        7.441900e+07   \n",
       "\n",
       "   PropType  treat  \n",
       "0   private      1  \n",
       "1   private      1  \n",
       "2     state      1  \n",
       "3   private      1  \n",
       "4   private      1  \n",
       "\n",
       "[5 rows x 30 columns]"
      ]
     },
     "execution_count": 45,
     "metadata": {},
     "output_type": "execute_result"
    }
   ],
   "source": [
    "conca.head()"
   ]
  },
  {
   "cell_type": "code",
   "execution_count": 47,
   "id": "64454380",
   "metadata": {},
   "outputs": [
    {
     "data": {
      "text/plain": [
       "(85941, 30)"
      ]
     },
     "execution_count": 47,
     "metadata": {},
     "output_type": "execute_result"
    }
   ],
   "source": [
    "cg.shape"
   ]
  },
  {
   "cell_type": "code",
   "execution_count": 44,
   "id": "89dc1185",
   "metadata": {},
   "outputs": [
    {
     "data": {
      "text/plain": [
       "(86016, 30)"
      ]
     },
     "execution_count": 44,
     "metadata": {},
     "output_type": "execute_result"
    }
   ],
   "source": [
    "conca.shape"
   ]
  },
  {
   "cell_type": "code",
   "execution_count": 48,
   "id": "c5055e12",
   "metadata": {},
   "outputs": [],
   "source": [
    "conca.to_csv('fulldf.csv')"
   ]
  },
  {
   "cell_type": "code",
   "execution_count": 54,
   "id": "9cf41171",
   "metadata": {},
   "outputs": [],
   "source": [
    "concaNA = conca[conca.isna().any(axis=1)]"
   ]
  },
  {
   "cell_type": "code",
   "execution_count": 59,
   "id": "ed2db56c",
   "metadata": {},
   "outputs": [
    {
     "data": {
      "text/plain": [
       "(75, 30)"
      ]
     },
     "execution_count": 59,
     "metadata": {},
     "output_type": "execute_result"
    }
   ],
   "source": [
    "ig.shape"
   ]
  },
  {
   "cell_type": "code",
   "execution_count": 60,
   "id": "f33500f1",
   "metadata": {},
   "outputs": [
    {
     "data": {
      "text/plain": [
       "(86016, 30)"
      ]
     },
     "execution_count": 60,
     "metadata": {},
     "output_type": "execute_result"
    }
   ],
   "source": [
    "conca.shape"
   ]
  },
  {
   "cell_type": "code",
   "execution_count": 55,
   "id": "95f18897",
   "metadata": {},
   "outputs": [
    {
     "data": {
      "text/plain": [
       "(33120, 30)"
      ]
     },
     "execution_count": 55,
     "metadata": {},
     "output_type": "execute_result"
    }
   ],
   "source": [
    "concaNA.shape"
   ]
  },
  {
   "attachments": {},
   "cell_type": "markdown",
   "id": "8c3086bd",
   "metadata": {},
   "source": [
    "# NA cleaning"
   ]
  },
  {
   "cell_type": "code",
   "execution_count": 51,
   "id": "ab6f49e0",
   "metadata": {},
   "outputs": [],
   "source": [
    "cg = pd.read_csv('readycg.csv', index_col=0)"
   ]
  },
  {
   "cell_type": "code",
   "execution_count": 35,
   "id": "3020a1ea",
   "metadata": {},
   "outputs": [],
   "source": [
    "ig = pd.read_csv('readyig.csv', index_col=0)"
   ]
  },
  {
   "cell_type": "code",
   "execution_count": null,
   "id": "facde7e3",
   "metadata": {},
   "outputs": [],
   "source": [
    "ig.info()"
   ]
  },
  {
   "cell_type": "code",
   "execution_count": 55,
   "id": "868961f4",
   "metadata": {},
   "outputs": [],
   "source": [
    "ig = ig.loc[:, ~ig.columns.str.contains('2021')]"
   ]
  },
  {
   "cell_type": "code",
   "execution_count": null,
   "id": "a0b8c086",
   "metadata": {},
   "outputs": [],
   "source": [
    "ig_NAdel = ig.dropna(thresh=cg.shape[1])"
   ]
  },
  {
   "cell_type": "code",
   "execution_count": 56,
   "id": "1f6ad8a9",
   "metadata": {},
   "outputs": [],
   "source": [
    "cg = cg.loc[:, ~cg.columns.str.contains('2021')]"
   ]
  },
  {
   "cell_type": "code",
   "execution_count": null,
   "id": "0e6aa954",
   "metadata": {},
   "outputs": [],
   "source": [
    "cg_NAdel = cg.dropna(thresh=cg.shape[1])"
   ]
  },
  {
   "cell_type": "code",
   "execution_count": 82,
   "id": "60c47357",
   "metadata": {},
   "outputs": [
    {
     "data": {
      "text/html": [
       "<div>\n",
       "<style scoped>\n",
       "    .dataframe tbody tr th:only-of-type {\n",
       "        vertical-align: middle;\n",
       "    }\n",
       "\n",
       "    .dataframe tbody tr th {\n",
       "        vertical-align: top;\n",
       "    }\n",
       "\n",
       "    .dataframe thead th {\n",
       "        text-align: right;\n",
       "    }\n",
       "</style>\n",
       "<table border=\"1\" class=\"dataframe\">\n",
       "  <thead>\n",
       "    <tr style=\"text-align: right;\">\n",
       "      <th></th>\n",
       "      <th>Name</th>\n",
       "      <th>INN</th>\n",
       "      <th>ActCode</th>\n",
       "      <th>PropCode</th>\n",
       "      <th>2014, Выручка, RUB</th>\n",
       "      <th>2015, Выручка, RUB</th>\n",
       "      <th>2016, Выручка, RUB</th>\n",
       "      <th>2017, Выручка, RUB</th>\n",
       "      <th>2018, Выручка, RUB</th>\n",
       "      <th>2019, Выручка, RUB</th>\n",
       "      <th>...</th>\n",
       "      <th>2019, Прибыль (убыток) до налогообложения , RUB</th>\n",
       "      <th>2020, Прибыль (убыток) до налогообложения , RUB</th>\n",
       "      <th>2014, Чистая прибыль (убыток), RUB</th>\n",
       "      <th>2015, Чистая прибыль (убыток), RUB</th>\n",
       "      <th>2016, Чистая прибыль (убыток), RUB</th>\n",
       "      <th>2017, Чистая прибыль (убыток), RUB</th>\n",
       "      <th>2018, Чистая прибыль (убыток), RUB</th>\n",
       "      <th>2019, Чистая прибыль (убыток), RUB</th>\n",
       "      <th>2020, Чистая прибыль (убыток), RUB</th>\n",
       "      <th>PropType</th>\n",
       "    </tr>\n",
       "  </thead>\n",
       "  <tbody>\n",
       "  </tbody>\n",
       "</table>\n",
       "<p>0 rows × 26 columns</p>\n",
       "</div>"
      ],
      "text/plain": [
       "Empty DataFrame\n",
       "Columns: [Name, INN, ActCode, PropCode, 2014, Выручка, RUB, 2015, Выручка, RUB, 2016, Выручка, RUB, 2017, Выручка, RUB, 2018, Выручка, RUB, 2019, Выручка, RUB, 2020, Выручка, RUB, 2014, Прибыль (убыток) до налогообложения , RUB, 2015, Прибыль (убыток) до налогообложения , RUB, 2016, Прибыль (убыток) до налогообложения , RUB, 2017, Прибыль (убыток) до налогообложения , RUB, 2018, Прибыль (убыток) до налогообложения , RUB, 2019, Прибыль (убыток) до налогообложения , RUB, 2020, Прибыль (убыток) до налогообложения , RUB, 2014, Чистая прибыль (убыток), RUB, 2015, Чистая прибыль (убыток), RUB, 2016, Чистая прибыль (убыток), RUB, 2017, Чистая прибыль (убыток), RUB, 2018, Чистая прибыль (убыток), RUB, 2019, Чистая прибыль (убыток), RUB, 2020, Чистая прибыль (убыток), RUB, PropType]\n",
       "Index: []\n",
       "\n",
       "[0 rows x 26 columns]"
      ]
     },
     "execution_count": 82,
     "metadata": {},
     "output_type": "execute_result"
    }
   ],
   "source": [
    "ig_NAdel[ig_NAdel.isna().any(axis=1)]"
   ]
  },
  {
   "cell_type": "code",
   "execution_count": 81,
   "id": "6927dea6",
   "metadata": {},
   "outputs": [
    {
     "data": {
      "text/html": [
       "<div>\n",
       "<style scoped>\n",
       "    .dataframe tbody tr th:only-of-type {\n",
       "        vertical-align: middle;\n",
       "    }\n",
       "\n",
       "    .dataframe tbody tr th {\n",
       "        vertical-align: top;\n",
       "    }\n",
       "\n",
       "    .dataframe thead th {\n",
       "        text-align: right;\n",
       "    }\n",
       "</style>\n",
       "<table border=\"1\" class=\"dataframe\">\n",
       "  <thead>\n",
       "    <tr style=\"text-align: right;\">\n",
       "      <th></th>\n",
       "      <th>Name</th>\n",
       "      <th>INN</th>\n",
       "      <th>ActCode</th>\n",
       "      <th>PropCode</th>\n",
       "      <th>2014, Выручка, RUB</th>\n",
       "      <th>2015, Выручка, RUB</th>\n",
       "      <th>2016, Выручка, RUB</th>\n",
       "      <th>2017, Выручка, RUB</th>\n",
       "      <th>2018, Выручка, RUB</th>\n",
       "      <th>2019, Выручка, RUB</th>\n",
       "      <th>...</th>\n",
       "      <th>2019, Прибыль (убыток) до налогообложения , RUB</th>\n",
       "      <th>2020, Прибыль (убыток) до налогообложения , RUB</th>\n",
       "      <th>2014, Чистая прибыль (убыток), RUB</th>\n",
       "      <th>2015, Чистая прибыль (убыток), RUB</th>\n",
       "      <th>2016, Чистая прибыль (убыток), RUB</th>\n",
       "      <th>2017, Чистая прибыль (убыток), RUB</th>\n",
       "      <th>2018, Чистая прибыль (убыток), RUB</th>\n",
       "      <th>2019, Чистая прибыль (убыток), RUB</th>\n",
       "      <th>2020, Чистая прибыль (убыток), RUB</th>\n",
       "      <th>PropType</th>\n",
       "    </tr>\n",
       "  </thead>\n",
       "  <tbody>\n",
       "  </tbody>\n",
       "</table>\n",
       "<p>0 rows × 26 columns</p>\n",
       "</div>"
      ],
      "text/plain": [
       "Empty DataFrame\n",
       "Columns: [Name, INN, ActCode, PropCode, 2014, Выручка, RUB, 2015, Выручка, RUB, 2016, Выручка, RUB, 2017, Выручка, RUB, 2018, Выручка, RUB, 2019, Выручка, RUB, 2020, Выручка, RUB, 2014, Прибыль (убыток) до налогообложения , RUB, 2015, Прибыль (убыток) до налогообложения , RUB, 2016, Прибыль (убыток) до налогообложения , RUB, 2017, Прибыль (убыток) до налогообложения , RUB, 2018, Прибыль (убыток) до налогообложения , RUB, 2019, Прибыль (убыток) до налогообложения , RUB, 2020, Прибыль (убыток) до налогообложения , RUB, 2014, Чистая прибыль (убыток), RUB, 2015, Чистая прибыль (убыток), RUB, 2016, Чистая прибыль (убыток), RUB, 2017, Чистая прибыль (убыток), RUB, 2018, Чистая прибыль (убыток), RUB, 2019, Чистая прибыль (убыток), RUB, 2020, Чистая прибыль (убыток), RUB, PropType]\n",
       "Index: []\n",
       "\n",
       "[0 rows x 26 columns]"
      ]
     },
     "execution_count": 81,
     "metadata": {},
     "output_type": "execute_result"
    }
   ],
   "source": [
    "cg_NAdel[cg_NAdel.isna().any(axis=1)]"
   ]
  },
  {
   "cell_type": "code",
   "execution_count": 72,
   "id": "496086b6",
   "metadata": {},
   "outputs": [],
   "source": [
    "cg_NAdel.to_csv('cg_NAdel.csv')"
   ]
  },
  {
   "cell_type": "code",
   "execution_count": 73,
   "id": "365e98c8",
   "metadata": {},
   "outputs": [],
   "source": [
    "ig_NAdel.to_csv('ig_NAdel.csv')"
   ]
  },
  {
   "cell_type": "code",
   "execution_count": 39,
   "id": "81459df4",
   "metadata": {},
   "outputs": [],
   "source": [
    "ig_NAdel = pd.read_csv('ig_NAdel.csv', index_col=0)\n",
    "cg_NAdel = pd.read_csv('cg_NAdel.csv', index_col=0)"
   ]
  },
  {
   "cell_type": "code",
   "execution_count": 12,
   "id": "ec44e223",
   "metadata": {},
   "outputs": [
    {
     "data": {
      "text/html": [
       "<div>\n",
       "<style scoped>\n",
       "    .dataframe tbody tr th:only-of-type {\n",
       "        vertical-align: middle;\n",
       "    }\n",
       "\n",
       "    .dataframe tbody tr th {\n",
       "        vertical-align: top;\n",
       "    }\n",
       "\n",
       "    .dataframe thead th {\n",
       "        text-align: right;\n",
       "    }\n",
       "</style>\n",
       "<table border=\"1\" class=\"dataframe\">\n",
       "  <thead>\n",
       "    <tr style=\"text-align: right;\">\n",
       "      <th></th>\n",
       "      <th>Name</th>\n",
       "      <th>INN</th>\n",
       "      <th>ActCode</th>\n",
       "      <th>PropCode</th>\n",
       "      <th>2014, Выручка, RUB</th>\n",
       "      <th>2015, Выручка, RUB</th>\n",
       "      <th>2016, Выручка, RUB</th>\n",
       "      <th>2017, Выручка, RUB</th>\n",
       "      <th>2018, Выручка, RUB</th>\n",
       "      <th>2019, Выручка, RUB</th>\n",
       "      <th>...</th>\n",
       "      <th>2020, Прибыль (убыток) до налогообложения , RUB</th>\n",
       "      <th>2014, Чистая прибыль (убыток), RUB</th>\n",
       "      <th>2015, Чистая прибыль (убыток), RUB</th>\n",
       "      <th>2016, Чистая прибыль (убыток), RUB</th>\n",
       "      <th>2017, Чистая прибыль (убыток), RUB</th>\n",
       "      <th>2018, Чистая прибыль (убыток), RUB</th>\n",
       "      <th>2019, Чистая прибыль (убыток), RUB</th>\n",
       "      <th>2020, Чистая прибыль (убыток), RUB</th>\n",
       "      <th>PropType</th>\n",
       "      <th>ActCode2</th>\n",
       "    </tr>\n",
       "  </thead>\n",
       "  <tbody>\n",
       "    <tr>\n",
       "      <th>0</th>\n",
       "      <td>АБИ ГРУПП, ЗАО</td>\n",
       "      <td>3328435022</td>\n",
       "      <td>70.22</td>\n",
       "      <td>16</td>\n",
       "      <td>1.201740e+08</td>\n",
       "      <td>1.413170e+08</td>\n",
       "      <td>1.264400e+08</td>\n",
       "      <td>1.201380e+08</td>\n",
       "      <td>1.618730e+08</td>\n",
       "      <td>2.029470e+08</td>\n",
       "      <td>...</td>\n",
       "      <td>4.028200e+07</td>\n",
       "      <td>3.039500e+07</td>\n",
       "      <td>1.701600e+07</td>\n",
       "      <td>9.794000e+06</td>\n",
       "      <td>4.640000e+05</td>\n",
       "      <td>1.087100e+07</td>\n",
       "      <td>3.115800e+07</td>\n",
       "      <td>3.204100e+07</td>\n",
       "      <td>private</td>\n",
       "      <td>70</td>\n",
       "    </tr>\n",
       "    <tr>\n",
       "      <th>1</th>\n",
       "      <td>АБИ ПРОДАКТ, АО</td>\n",
       "      <td>3328458132</td>\n",
       "      <td>70.22</td>\n",
       "      <td>16</td>\n",
       "      <td>7.395810e+08</td>\n",
       "      <td>1.299192e+09</td>\n",
       "      <td>1.832459e+09</td>\n",
       "      <td>2.757634e+09</td>\n",
       "      <td>2.852426e+09</td>\n",
       "      <td>3.188583e+09</td>\n",
       "      <td>...</td>\n",
       "      <td>3.111380e+09</td>\n",
       "      <td>5.012300e+08</td>\n",
       "      <td>2.365360e+08</td>\n",
       "      <td>5.352400e+08</td>\n",
       "      <td>3.008589e+09</td>\n",
       "      <td>1.056581e+09</td>\n",
       "      <td>1.835680e+09</td>\n",
       "      <td>3.018320e+09</td>\n",
       "      <td>private</td>\n",
       "      <td>70</td>\n",
       "    </tr>\n",
       "    <tr>\n",
       "      <th>3</th>\n",
       "      <td>АГРОКОМПЛЕКС ИМ. Н.И.ТКАЧЕВА, АО ФИРМА</td>\n",
       "      <td>2328000083</td>\n",
       "      <td>01.50</td>\n",
       "      <td>16</td>\n",
       "      <td>2.653824e+10</td>\n",
       "      <td>3.868161e+10</td>\n",
       "      <td>4.475645e+10</td>\n",
       "      <td>4.667984e+10</td>\n",
       "      <td>5.002613e+10</td>\n",
       "      <td>5.319341e+10</td>\n",
       "      <td>...</td>\n",
       "      <td>2.686656e+09</td>\n",
       "      <td>4.145442e+09</td>\n",
       "      <td>6.645393e+09</td>\n",
       "      <td>2.944203e+09</td>\n",
       "      <td>-2.112012e+09</td>\n",
       "      <td>-2.924708e+09</td>\n",
       "      <td>1.641324e+09</td>\n",
       "      <td>2.673351e+09</td>\n",
       "      <td>private</td>\n",
       "      <td>01</td>\n",
       "    </tr>\n",
       "    <tr>\n",
       "      <th>5</th>\n",
       "      <td>АГРОФИРМА АДУЧИ, ООО</td>\n",
       "      <td>817001298</td>\n",
       "      <td>01.41</td>\n",
       "      <td>16</td>\n",
       "      <td>5.476300e+07</td>\n",
       "      <td>1.073450e+08</td>\n",
       "      <td>4.689300e+07</td>\n",
       "      <td>2.330300e+07</td>\n",
       "      <td>6.524700e+07</td>\n",
       "      <td>1.407000e+07</td>\n",
       "      <td>...</td>\n",
       "      <td>4.597000e+06</td>\n",
       "      <td>1.153700e+07</td>\n",
       "      <td>5.972000e+06</td>\n",
       "      <td>6.600000e+04</td>\n",
       "      <td>4.491000e+06</td>\n",
       "      <td>5.654000e+06</td>\n",
       "      <td>6.799000e+06</td>\n",
       "      <td>4.597000e+06</td>\n",
       "      <td>private</td>\n",
       "      <td>01</td>\n",
       "    </tr>\n",
       "    <tr>\n",
       "      <th>7</th>\n",
       "      <td>АС ЭВАЛАР, ООО</td>\n",
       "      <td>7704729709</td>\n",
       "      <td>47.73</td>\n",
       "      <td>16</td>\n",
       "      <td>6.453080e+08</td>\n",
       "      <td>7.810120e+08</td>\n",
       "      <td>9.223930e+08</td>\n",
       "      <td>8.822710e+08</td>\n",
       "      <td>9.404620e+08</td>\n",
       "      <td>9.790840e+08</td>\n",
       "      <td>...</td>\n",
       "      <td>-2.595100e+07</td>\n",
       "      <td>8.190000e+06</td>\n",
       "      <td>1.842600e+07</td>\n",
       "      <td>3.940000e+06</td>\n",
       "      <td>-2.796000e+07</td>\n",
       "      <td>-4.219000e+07</td>\n",
       "      <td>-3.440300e+07</td>\n",
       "      <td>-2.376400e+07</td>\n",
       "      <td>private</td>\n",
       "      <td>47</td>\n",
       "    </tr>\n",
       "  </tbody>\n",
       "</table>\n",
       "<p>5 rows × 27 columns</p>\n",
       "</div>"
      ],
      "text/plain": [
       "                                     Name         INN ActCode  PropCode  \\\n",
       "0                          АБИ ГРУПП, ЗАО  3328435022   70.22        16   \n",
       "1                         АБИ ПРОДАКТ, АО  3328458132   70.22        16   \n",
       "3  АГРОКОМПЛЕКС ИМ. Н.И.ТКАЧЕВА, АО ФИРМА  2328000083   01.50        16   \n",
       "5                    АГРОФИРМА АДУЧИ, ООО   817001298   01.41        16   \n",
       "7                          АС ЭВАЛАР, ООО  7704729709   47.73        16   \n",
       "\n",
       "   2014, Выручка, RUB  2015, Выручка, RUB  2016, Выручка, RUB  \\\n",
       "0        1.201740e+08        1.413170e+08        1.264400e+08   \n",
       "1        7.395810e+08        1.299192e+09        1.832459e+09   \n",
       "3        2.653824e+10        3.868161e+10        4.475645e+10   \n",
       "5        5.476300e+07        1.073450e+08        4.689300e+07   \n",
       "7        6.453080e+08        7.810120e+08        9.223930e+08   \n",
       "\n",
       "   2017, Выручка, RUB  2018, Выручка, RUB  2019, Выручка, RUB  ...  \\\n",
       "0        1.201380e+08        1.618730e+08        2.029470e+08  ...   \n",
       "1        2.757634e+09        2.852426e+09        3.188583e+09  ...   \n",
       "3        4.667984e+10        5.002613e+10        5.319341e+10  ...   \n",
       "5        2.330300e+07        6.524700e+07        1.407000e+07  ...   \n",
       "7        8.822710e+08        9.404620e+08        9.790840e+08  ...   \n",
       "\n",
       "   2020, Прибыль (убыток) до налогообложения , RUB  \\\n",
       "0                                     4.028200e+07   \n",
       "1                                     3.111380e+09   \n",
       "3                                     2.686656e+09   \n",
       "5                                     4.597000e+06   \n",
       "7                                    -2.595100e+07   \n",
       "\n",
       "   2014, Чистая прибыль (убыток), RUB  2015, Чистая прибыль (убыток), RUB  \\\n",
       "0                        3.039500e+07                        1.701600e+07   \n",
       "1                        5.012300e+08                        2.365360e+08   \n",
       "3                        4.145442e+09                        6.645393e+09   \n",
       "5                        1.153700e+07                        5.972000e+06   \n",
       "7                        8.190000e+06                        1.842600e+07   \n",
       "\n",
       "   2016, Чистая прибыль (убыток), RUB  2017, Чистая прибыль (убыток), RUB  \\\n",
       "0                        9.794000e+06                        4.640000e+05   \n",
       "1                        5.352400e+08                        3.008589e+09   \n",
       "3                        2.944203e+09                       -2.112012e+09   \n",
       "5                        6.600000e+04                        4.491000e+06   \n",
       "7                        3.940000e+06                       -2.796000e+07   \n",
       "\n",
       "   2018, Чистая прибыль (убыток), RUB  2019, Чистая прибыль (убыток), RUB  \\\n",
       "0                        1.087100e+07                        3.115800e+07   \n",
       "1                        1.056581e+09                        1.835680e+09   \n",
       "3                       -2.924708e+09                        1.641324e+09   \n",
       "5                        5.654000e+06                        6.799000e+06   \n",
       "7                       -4.219000e+07                       -3.440300e+07   \n",
       "\n",
       "   2020, Чистая прибыль (убыток), RUB  PropType  ActCode2  \n",
       "0                        3.204100e+07   private        70  \n",
       "1                        3.018320e+09   private        70  \n",
       "3                        2.673351e+09   private        01  \n",
       "5                        4.597000e+06   private        01  \n",
       "7                       -2.376400e+07   private        47  \n",
       "\n",
       "[5 rows x 27 columns]"
      ]
     },
     "execution_count": 12,
     "metadata": {},
     "output_type": "execute_result"
    }
   ],
   "source": [
    "ig_NAdel.head()"
   ]
  },
  {
   "attachments": {},
   "cell_type": "markdown",
   "id": "cf5cb5e8",
   "metadata": {},
   "source": [
    "Изменим названия столбцов для удобства:"
   ]
  },
  {
   "cell_type": "code",
   "execution_count": 15,
   "id": "e507626a",
   "metadata": {},
   "outputs": [
    {
     "data": {
      "text/plain": [
       "Index(['Name', 'INN', 'ActCode', 'PropCode', '2014, Выручка, RUB',\n",
       "       '2015, Выручка, RUB', '2016, Выручка, RUB', '2017, Выручка, RUB',\n",
       "       '2018, Выручка, RUB', '2019, Выручка, RUB', '2020, Выручка, RUB',\n",
       "       '2014, Прибыль (убыток) до налогообложения , RUB',\n",
       "       '2015, Прибыль (убыток) до налогообложения , RUB',\n",
       "       '2016, Прибыль (убыток) до налогообложения , RUB',\n",
       "       '2017, Прибыль (убыток) до налогообложения , RUB',\n",
       "       '2018, Прибыль (убыток) до налогообложения , RUB',\n",
       "       '2019, Прибыль (убыток) до налогообложения , RUB',\n",
       "       '2020, Прибыль (убыток) до налогообложения , RUB',\n",
       "       '2014, Чистая прибыль (убыток), RUB',\n",
       "       '2015, Чистая прибыль (убыток), RUB',\n",
       "       '2016, Чистая прибыль (убыток), RUB',\n",
       "       '2017, Чистая прибыль (убыток), RUB',\n",
       "       '2018, Чистая прибыль (убыток), RUB',\n",
       "       '2019, Чистая прибыль (убыток), RUB',\n",
       "       '2020, Чистая прибыль (убыток), RUB', 'PropType', 'ActCode2'],\n",
       "      dtype='object')"
      ]
     },
     "execution_count": 15,
     "metadata": {},
     "output_type": "execute_result"
    }
   ],
   "source": [
    "cg_NAdel.columns"
   ]
  },
  {
   "cell_type": "code",
   "execution_count": null,
   "id": "3f49e4f2",
   "metadata": {},
   "outputs": [],
   "source": [
    "cg_NAdel.rename(columns={'2014, Прибыль (убыток) до налогообложения , RUB': '2O14PB', '2015, Прибыль (убыток) до налогообложения , RUB': '2O15PB', '2016, Прибыль (убыток) до налогообложения , RUB': '2O16PB', '2017, Прибыль (убыток) до налогообложения , RUB': '2O17PB',}, inplace=True)"
   ]
  },
  {
   "cell_type": "code",
   "execution_count": 40,
   "id": "db13551e",
   "metadata": {},
   "outputs": [],
   "source": [
    "c = 2010\n",
    "for i in range(4,11):\n",
    "    cg_NAdel.rename(columns={f'{c+i}, Прибыль (убыток) до налогообложения , RUB': f'PB{c+i}'}, inplace=True)\n",
    "    cg_NAdel.rename(columns={f'{c+i}, Чистая прибыль (убыток), RUB': f'P{c+i}'}, inplace=True)\n",
    "    cg_NAdel.rename(columns={f'{c+i}, Выручка, RUB': f'R{c+i}'}, inplace=True)"
   ]
  },
  {
   "cell_type": "code",
   "execution_count": 41,
   "id": "9b2311b9",
   "metadata": {},
   "outputs": [],
   "source": [
    "c = 2010\n",
    "for i in range(4,11):\n",
    "    ig_NAdel.rename(columns={f'{c+i}, Прибыль (убыток) до налогообложения , RUB': f'PB{c+i}'}, inplace=True)\n",
    "    ig_NAdel.rename(columns={f'{c+i}, Чистая прибыль (убыток), RUB': f'P{c+i}'}, inplace=True)\n",
    "    ig_NAdel.rename(columns={f'{c+i}, Выручка, RUB': f'R{c+i}'}, inplace=True)"
   ]
  },
  {
   "cell_type": "code",
   "execution_count": 42,
   "id": "641cb77d",
   "metadata": {},
   "outputs": [],
   "source": [
    "ig_NAdel['ActCode2'] = ig_NAdel['ActCode'].str[:2]\n",
    "cg_NAdel['ActCode2'] = cg_NAdel['ActCode'].str[:2]"
   ]
  },
  {
   "cell_type": "code",
   "execution_count": 43,
   "id": "eea8f812",
   "metadata": {},
   "outputs": [],
   "source": [
    "ig_NAdel['treat'] = 1\n",
    "cg_NAdel['treat'] = 0"
   ]
  },
  {
   "cell_type": "code",
   "execution_count": 44,
   "id": "204ad98b",
   "metadata": {},
   "outputs": [
    {
     "data": {
      "text/plain": [
       "Index(['Name', 'INN', 'ActCode', 'PropCode', 'R2014', 'R2015', 'R2016',\n",
       "       'R2017', 'R2018', 'R2019', 'R2020', 'PB2014', 'PB2015', 'PB2016',\n",
       "       'PB2017', 'PB2018', 'PB2019', 'PB2020', 'P2014', 'P2015', 'P2016',\n",
       "       'P2017', 'P2018', 'P2019', 'P2020', 'PropType', 'ActCode2', 'treat'],\n",
       "      dtype='object')"
      ]
     },
     "execution_count": 44,
     "metadata": {},
     "output_type": "execute_result"
    }
   ],
   "source": [
    "cg_NAdel.columns"
   ]
  },
  {
   "cell_type": "code",
   "execution_count": 45,
   "id": "887b4797",
   "metadata": {},
   "outputs": [
    {
     "data": {
      "text/plain": [
       "Index(['Name', 'INN', 'ActCode', 'PropCode', 'R2014', 'R2015', 'R2016',\n",
       "       'R2017', 'R2018', 'R2019', 'R2020', 'PB2014', 'PB2015', 'PB2016',\n",
       "       'PB2017', 'PB2018', 'PB2019', 'PB2020', 'P2014', 'P2015', 'P2016',\n",
       "       'P2017', 'P2018', 'P2019', 'P2020', 'PropType', 'ActCode2', 'treat'],\n",
       "      dtype='object')"
      ]
     },
     "execution_count": 45,
     "metadata": {},
     "output_type": "execute_result"
    }
   ],
   "source": [
    "ig_NAdel.columns"
   ]
  },
  {
   "cell_type": "code",
   "execution_count": 36,
   "id": "f3fc1b56",
   "metadata": {},
   "outputs": [],
   "source": [
    "ig_NAdel.to_csv('igtor.csv')\n",
    "cg_NAdel.to_csv('cgtor.csv')"
   ]
  },
  {
   "cell_type": "code",
   "execution_count": 48,
   "id": "946de348",
   "metadata": {},
   "outputs": [],
   "source": [
    "un = pd.concat([ig_NAdel, cg_NAdel]).to_csv('untor.csv')"
   ]
  },
  {
   "cell_type": "code",
   "execution_count": 2,
   "id": "9d9babf6",
   "metadata": {},
   "outputs": [],
   "source": [
    "un = pd.read_csv('untor.csv', index_col=0)"
   ]
  },
  {
   "cell_type": "code",
   "execution_count": 35,
   "id": "8ee00a69",
   "metadata": {},
   "outputs": [
    {
     "data": {
      "text/html": [
       "<div>\n",
       "<style scoped>\n",
       "    .dataframe tbody tr th:only-of-type {\n",
       "        vertical-align: middle;\n",
       "    }\n",
       "\n",
       "    .dataframe tbody tr th {\n",
       "        vertical-align: top;\n",
       "    }\n",
       "\n",
       "    .dataframe thead th {\n",
       "        text-align: right;\n",
       "    }\n",
       "</style>\n",
       "<table border=\"1\" class=\"dataframe\">\n",
       "  <thead>\n",
       "    <tr style=\"text-align: right;\">\n",
       "      <th></th>\n",
       "      <th>ActCode</th>\n",
       "      <th>PropCode</th>\n",
       "      <th>R2014</th>\n",
       "    </tr>\n",
       "  </thead>\n",
       "  <tbody>\n",
       "    <tr>\n",
       "      <th>0</th>\n",
       "      <td>70.22</td>\n",
       "      <td>16</td>\n",
       "      <td>1.201740e+08</td>\n",
       "    </tr>\n",
       "    <tr>\n",
       "      <th>1</th>\n",
       "      <td>70.22</td>\n",
       "      <td>16</td>\n",
       "      <td>7.395810e+08</td>\n",
       "    </tr>\n",
       "    <tr>\n",
       "      <th>3</th>\n",
       "      <td>01.50</td>\n",
       "      <td>16</td>\n",
       "      <td>2.653824e+10</td>\n",
       "    </tr>\n",
       "    <tr>\n",
       "      <th>5</th>\n",
       "      <td>01.41</td>\n",
       "      <td>16</td>\n",
       "      <td>5.476300e+07</td>\n",
       "    </tr>\n",
       "    <tr>\n",
       "      <th>7</th>\n",
       "      <td>47.73</td>\n",
       "      <td>16</td>\n",
       "      <td>6.453080e+08</td>\n",
       "    </tr>\n",
       "    <tr>\n",
       "      <th>...</th>\n",
       "      <td>...</td>\n",
       "      <td>...</td>\n",
       "      <td>...</td>\n",
       "    </tr>\n",
       "    <tr>\n",
       "      <th>85935</th>\n",
       "      <td>68.20.2</td>\n",
       "      <td>16</td>\n",
       "      <td>1.256500e+07</td>\n",
       "    </tr>\n",
       "    <tr>\n",
       "      <th>85936</th>\n",
       "      <td>68.20.2</td>\n",
       "      <td>16</td>\n",
       "      <td>2.462600e+07</td>\n",
       "    </tr>\n",
       "    <tr>\n",
       "      <th>85937</th>\n",
       "      <td>68.20.2</td>\n",
       "      <td>16</td>\n",
       "      <td>1.736600e+07</td>\n",
       "    </tr>\n",
       "    <tr>\n",
       "      <th>85938</th>\n",
       "      <td>47.73</td>\n",
       "      <td>16</td>\n",
       "      <td>1.471320e+08</td>\n",
       "    </tr>\n",
       "    <tr>\n",
       "      <th>85940</th>\n",
       "      <td>52.10</td>\n",
       "      <td>16</td>\n",
       "      <td>5.334600e+07</td>\n",
       "    </tr>\n",
       "  </tbody>\n",
       "</table>\n",
       "<p>57887 rows × 3 columns</p>\n",
       "</div>"
      ],
      "text/plain": [
       "       ActCode  PropCode         R2014\n",
       "0        70.22        16  1.201740e+08\n",
       "1        70.22        16  7.395810e+08\n",
       "3        01.50        16  2.653824e+10\n",
       "5        01.41        16  5.476300e+07\n",
       "7        47.73        16  6.453080e+08\n",
       "...        ...       ...           ...\n",
       "85935  68.20.2        16  1.256500e+07\n",
       "85936  68.20.2        16  2.462600e+07\n",
       "85937  68.20.2        16  1.736600e+07\n",
       "85938    47.73        16  1.471320e+08\n",
       "85940    52.10        16  5.334600e+07\n",
       "\n",
       "[57887 rows x 3 columns]"
      ]
     },
     "execution_count": 35,
     "metadata": {},
     "output_type": "execute_result"
    }
   ],
   "source": [
    "un.iloc(axis=1)[2:5]"
   ]
  }
 ],
 "metadata": {
  "kernelspec": {
   "display_name": "Python 3 (ipykernel)",
   "language": "python",
   "name": "python3"
  },
  "language_info": {
   "codemirror_mode": {
    "name": "ipython",
    "version": 3
   },
   "file_extension": ".py",
   "mimetype": "text/x-python",
   "name": "python",
   "nbconvert_exporter": "python",
   "pygments_lexer": "ipython3",
   "version": "3.8.2"
  }
 },
 "nbformat": 4,
 "nbformat_minor": 5
}
