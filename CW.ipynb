{
 "cells": [
  {
   "attachments": {},
   "cell_type": "markdown",
   "id": "f41aa74e",
   "metadata": {},
   "source": [
    "Импортируем библиотеки"
   ]
  },
  {
   "cell_type": "code",
   "execution_count": 9,
   "id": "f96e5ad7",
   "metadata": {},
   "outputs": [
    {
     "name": "stdout",
     "output_type": "stream",
     "text": [
      "Collecting openpyxl\n",
      "  Downloading openpyxl-3.1.2-py2.py3-none-any.whl (249 kB)\n",
      "     ---------------------------------------- 0.0/250.0 kB ? eta -:--:--\n",
      "     --------- ----------------------------- 61.4/250.0 kB 1.1 MB/s eta 0:00:01\n",
      "     --------------------- ---------------- 143.4/250.0 kB 1.4 MB/s eta 0:00:01\n",
      "     -------------------------- ----------- 174.1/250.0 kB 1.5 MB/s eta 0:00:01\n",
      "     ------------------------------- ------ 204.8/250.0 kB 1.1 MB/s eta 0:00:01\n",
      "     -------------------------------------- 250.0/250.0 kB 1.0 MB/s eta 0:00:00\n",
      "Collecting et-xmlfile\n",
      "  Downloading et_xmlfile-1.1.0-py3-none-any.whl (4.7 kB)\n",
      "Installing collected packages: et-xmlfile, openpyxl\n",
      "Successfully installed et-xmlfile-1.1.0 openpyxl-3.1.2\n",
      "Note: you may need to restart the kernel to use updated packages.\n"
     ]
    }
   ],
   "source": [
    "pip install openpyxl"
   ]
  },
  {
   "cell_type": "code",
   "execution_count": 8,
   "id": "d1fc9b70",
   "metadata": {},
   "outputs": [
    {
     "ename": "SyntaxError",
     "evalue": "invalid syntax (886313204.py, line 3)",
     "output_type": "error",
     "traceback": [
      "\u001b[1;36m  Input \u001b[1;32mIn [8]\u001b[1;36m\u001b[0m\n\u001b[1;33m    pip install openpyxl\u001b[0m\n\u001b[1;37m        ^\u001b[0m\n\u001b[1;31mSyntaxError\u001b[0m\u001b[1;31m:\u001b[0m invalid syntax\n"
     ]
    }
   ],
   "source": [
    "import numpy as np\n",
    "import pandas as pd"
   ]
  },
  {
   "cell_type": "raw",
   "id": "013ec6bd",
   "metadata": {},
   "source": [
    "Загрузка таблиц excel, из-за ограничения по количеству строк в СПАРКе, пришлось выгружать девять раз,"
   ]
  },
  {
   "cell_type": "code",
   "execution_count": 10,
   "id": "113d270f",
   "metadata": {},
   "outputs": [
    {
     "ename": "FileNotFoundError",
     "evalue": "[Errno 2] No such file or directory: 'C:/Users/fizze/Desktop/90k14-16/10k14-16.xlsx'",
     "output_type": "error",
     "traceback": [
      "\u001b[1;31m---------------------------------------------------------------------------\u001b[0m",
      "\u001b[1;31mFileNotFoundError\u001b[0m                         Traceback (most recent call last)",
      "\u001b[1;32mc:\\Users\\fizze\\Desktop\\trans\\CW.ipynb Cell 5\u001b[0m in \u001b[0;36m<cell line: 1>\u001b[1;34m()\u001b[0m\n\u001b[1;32m----> <a href='vscode-notebook-cell:/c%3A/Users/fizze/Desktop/trans/CW.ipynb#W3sZmlsZQ%3D%3D?line=0'>1</a>\u001b[0m t1 \u001b[39m=\u001b[39m pd\u001b[39m.\u001b[39;49mread_excel(\u001b[39m\"\u001b[39;49m\u001b[39mC:/Users/fizze/Desktop/90k14-16/10k14-16.xlsx\u001b[39;49m\u001b[39m\"\u001b[39;49m)\n",
      "File \u001b[1;32md:\\Programs\\Anaconda\\envs\\dvc\\lib\\site-packages\\pandas\\util\\_decorators.py:211\u001b[0m, in \u001b[0;36mdeprecate_kwarg.<locals>._deprecate_kwarg.<locals>.wrapper\u001b[1;34m(*args, **kwargs)\u001b[0m\n\u001b[0;32m    209\u001b[0m     \u001b[39melse\u001b[39;00m:\n\u001b[0;32m    210\u001b[0m         kwargs[new_arg_name] \u001b[39m=\u001b[39m new_arg_value\n\u001b[1;32m--> 211\u001b[0m \u001b[39mreturn\u001b[39;00m func(\u001b[39m*\u001b[39;49margs, \u001b[39m*\u001b[39;49m\u001b[39m*\u001b[39;49mkwargs)\n",
      "File \u001b[1;32md:\\Programs\\Anaconda\\envs\\dvc\\lib\\site-packages\\pandas\\util\\_decorators.py:331\u001b[0m, in \u001b[0;36mdeprecate_nonkeyword_arguments.<locals>.decorate.<locals>.wrapper\u001b[1;34m(*args, **kwargs)\u001b[0m\n\u001b[0;32m    325\u001b[0m \u001b[39mif\u001b[39;00m \u001b[39mlen\u001b[39m(args) \u001b[39m>\u001b[39m num_allow_args:\n\u001b[0;32m    326\u001b[0m     warnings\u001b[39m.\u001b[39mwarn(\n\u001b[0;32m    327\u001b[0m         msg\u001b[39m.\u001b[39mformat(arguments\u001b[39m=\u001b[39m_format_argument_list(allow_args)),\n\u001b[0;32m    328\u001b[0m         \u001b[39mFutureWarning\u001b[39;00m,\n\u001b[0;32m    329\u001b[0m         stacklevel\u001b[39m=\u001b[39mfind_stack_level(),\n\u001b[0;32m    330\u001b[0m     )\n\u001b[1;32m--> 331\u001b[0m \u001b[39mreturn\u001b[39;00m func(\u001b[39m*\u001b[39;49margs, \u001b[39m*\u001b[39;49m\u001b[39m*\u001b[39;49mkwargs)\n",
      "File \u001b[1;32md:\\Programs\\Anaconda\\envs\\dvc\\lib\\site-packages\\pandas\\io\\excel\\_base.py:482\u001b[0m, in \u001b[0;36mread_excel\u001b[1;34m(io, sheet_name, header, names, index_col, usecols, squeeze, dtype, engine, converters, true_values, false_values, skiprows, nrows, na_values, keep_default_na, na_filter, verbose, parse_dates, date_parser, thousands, decimal, comment, skipfooter, convert_float, mangle_dupe_cols, storage_options)\u001b[0m\n\u001b[0;32m    480\u001b[0m \u001b[39mif\u001b[39;00m \u001b[39mnot\u001b[39;00m \u001b[39misinstance\u001b[39m(io, ExcelFile):\n\u001b[0;32m    481\u001b[0m     should_close \u001b[39m=\u001b[39m \u001b[39mTrue\u001b[39;00m\n\u001b[1;32m--> 482\u001b[0m     io \u001b[39m=\u001b[39m ExcelFile(io, storage_options\u001b[39m=\u001b[39;49mstorage_options, engine\u001b[39m=\u001b[39;49mengine)\n\u001b[0;32m    483\u001b[0m \u001b[39melif\u001b[39;00m engine \u001b[39mand\u001b[39;00m engine \u001b[39m!=\u001b[39m io\u001b[39m.\u001b[39mengine:\n\u001b[0;32m    484\u001b[0m     \u001b[39mraise\u001b[39;00m \u001b[39mValueError\u001b[39;00m(\n\u001b[0;32m    485\u001b[0m         \u001b[39m\"\u001b[39m\u001b[39mEngine should not be specified when passing \u001b[39m\u001b[39m\"\u001b[39m\n\u001b[0;32m    486\u001b[0m         \u001b[39m\"\u001b[39m\u001b[39man ExcelFile - ExcelFile already has the engine set\u001b[39m\u001b[39m\"\u001b[39m\n\u001b[0;32m    487\u001b[0m     )\n",
      "File \u001b[1;32md:\\Programs\\Anaconda\\envs\\dvc\\lib\\site-packages\\pandas\\io\\excel\\_base.py:1652\u001b[0m, in \u001b[0;36mExcelFile.__init__\u001b[1;34m(self, path_or_buffer, engine, storage_options)\u001b[0m\n\u001b[0;32m   1650\u001b[0m     ext \u001b[39m=\u001b[39m \u001b[39m\"\u001b[39m\u001b[39mxls\u001b[39m\u001b[39m\"\u001b[39m\n\u001b[0;32m   1651\u001b[0m \u001b[39melse\u001b[39;00m:\n\u001b[1;32m-> 1652\u001b[0m     ext \u001b[39m=\u001b[39m inspect_excel_format(\n\u001b[0;32m   1653\u001b[0m         content_or_path\u001b[39m=\u001b[39;49mpath_or_buffer, storage_options\u001b[39m=\u001b[39;49mstorage_options\n\u001b[0;32m   1654\u001b[0m     )\n\u001b[0;32m   1655\u001b[0m     \u001b[39mif\u001b[39;00m ext \u001b[39mis\u001b[39;00m \u001b[39mNone\u001b[39;00m:\n\u001b[0;32m   1656\u001b[0m         \u001b[39mraise\u001b[39;00m \u001b[39mValueError\u001b[39;00m(\n\u001b[0;32m   1657\u001b[0m             \u001b[39m\"\u001b[39m\u001b[39mExcel file format cannot be determined, you must specify \u001b[39m\u001b[39m\"\u001b[39m\n\u001b[0;32m   1658\u001b[0m             \u001b[39m\"\u001b[39m\u001b[39man engine manually.\u001b[39m\u001b[39m\"\u001b[39m\n\u001b[0;32m   1659\u001b[0m         )\n",
      "File \u001b[1;32md:\\Programs\\Anaconda\\envs\\dvc\\lib\\site-packages\\pandas\\io\\excel\\_base.py:1525\u001b[0m, in \u001b[0;36minspect_excel_format\u001b[1;34m(content_or_path, storage_options)\u001b[0m\n\u001b[0;32m   1522\u001b[0m \u001b[39mif\u001b[39;00m \u001b[39misinstance\u001b[39m(content_or_path, \u001b[39mbytes\u001b[39m):\n\u001b[0;32m   1523\u001b[0m     content_or_path \u001b[39m=\u001b[39m BytesIO(content_or_path)\n\u001b[1;32m-> 1525\u001b[0m \u001b[39mwith\u001b[39;00m get_handle(\n\u001b[0;32m   1526\u001b[0m     content_or_path, \u001b[39m\"\u001b[39;49m\u001b[39mrb\u001b[39;49m\u001b[39m\"\u001b[39;49m, storage_options\u001b[39m=\u001b[39;49mstorage_options, is_text\u001b[39m=\u001b[39;49m\u001b[39mFalse\u001b[39;49;00m\n\u001b[0;32m   1527\u001b[0m ) \u001b[39mas\u001b[39;00m handle:\n\u001b[0;32m   1528\u001b[0m     stream \u001b[39m=\u001b[39m handle\u001b[39m.\u001b[39mhandle\n\u001b[0;32m   1529\u001b[0m     stream\u001b[39m.\u001b[39mseek(\u001b[39m0\u001b[39m)\n",
      "File \u001b[1;32md:\\Programs\\Anaconda\\envs\\dvc\\lib\\site-packages\\pandas\\io\\common.py:865\u001b[0m, in \u001b[0;36mget_handle\u001b[1;34m(path_or_buf, mode, encoding, compression, memory_map, is_text, errors, storage_options)\u001b[0m\n\u001b[0;32m    856\u001b[0m         handle \u001b[39m=\u001b[39m \u001b[39mopen\u001b[39m(\n\u001b[0;32m    857\u001b[0m             handle,\n\u001b[0;32m    858\u001b[0m             ioargs\u001b[39m.\u001b[39mmode,\n\u001b[1;32m   (...)\u001b[0m\n\u001b[0;32m    861\u001b[0m             newline\u001b[39m=\u001b[39m\u001b[39m\"\u001b[39m\u001b[39m\"\u001b[39m,\n\u001b[0;32m    862\u001b[0m         )\n\u001b[0;32m    863\u001b[0m     \u001b[39melse\u001b[39;00m:\n\u001b[0;32m    864\u001b[0m         \u001b[39m# Binary mode\u001b[39;00m\n\u001b[1;32m--> 865\u001b[0m         handle \u001b[39m=\u001b[39m \u001b[39mopen\u001b[39;49m(handle, ioargs\u001b[39m.\u001b[39;49mmode)\n\u001b[0;32m    866\u001b[0m     handles\u001b[39m.\u001b[39mappend(handle)\n\u001b[0;32m    868\u001b[0m \u001b[39m# Convert BytesIO or file objects passed with an encoding\u001b[39;00m\n",
      "\u001b[1;31mFileNotFoundError\u001b[0m: [Errno 2] No such file or directory: 'C:/Users/fizze/Desktop/90k14-16/10k14-16.xlsx'"
     ]
    }
   ],
   "source": [
    "t1 = pd.read_excel(\"C:/Users/fizze/Desktop/90k14-16/10k14-16.xlsx\")"
   ]
  },
  {
   "cell_type": "code",
   "execution_count": 22,
   "id": "e26d986c",
   "metadata": {},
   "outputs": [],
   "source": [
    "t2 = pd.read_excel(\"C:/Users/fizze/Desktop/90k14-16/20k14-16.xlsx\")"
   ]
  },
  {
   "cell_type": "code",
   "execution_count": 27,
   "id": "9df90669",
   "metadata": {},
   "outputs": [],
   "source": [
    "t3 = pd.read_excel(\"C:/Users/fizze/Desktop/90k14-16/30k14-16.xlsx\")"
   ]
  },
  {
   "cell_type": "code",
   "execution_count": 35,
   "id": "1830c96a",
   "metadata": {},
   "outputs": [],
   "source": [
    "t4 = pd.read_excel(\"C:/Users/fizze/Desktop/90k14-16/40k14-16.xlsx\", skiprows=3, nrows=10000)"
   ]
  },
  {
   "cell_type": "code",
   "execution_count": 37,
   "id": "8d3ee919",
   "metadata": {},
   "outputs": [],
   "source": [
    "t5 = pd.read_excel(\"C:/Users/fizze/Desktop/90k14-16/50k14-16.xlsx\", skiprows=3, nrows=10000)"
   ]
  },
  {
   "cell_type": "code",
   "execution_count": 39,
   "id": "2efe4f4e",
   "metadata": {},
   "outputs": [],
   "source": [
    "t6 = pd.read_excel(\"C:/Users/fizze/Desktop/90k14-16/60k14-16.xlsx\", skiprows=3, nrows=10000)"
   ]
  },
  {
   "cell_type": "code",
   "execution_count": 38,
   "id": "0ffdbef3",
   "metadata": {},
   "outputs": [],
   "source": [
    "t7 = pd.read_excel(\"C:/Users/fizze/Desktop/90k14-16/70k14-16.xlsx\", skiprows=3, nrows=10000)"
   ]
  },
  {
   "cell_type": "code",
   "execution_count": 40,
   "id": "e53c75cd",
   "metadata": {},
   "outputs": [],
   "source": [
    "t8 = pd.read_excel(\"C:/Users/fizze/Desktop/90k14-16/80k14-16.xlsx\", skiprows=3, nrows=10000)"
   ]
  },
  {
   "cell_type": "code",
   "execution_count": 63,
   "id": "f19582fa",
   "metadata": {},
   "outputs": [],
   "source": [
    "t92 = pd.read_excel(\"C:/Users/fizze/Desktop/90k14-16/90k14-16.xlsx\", skiprows=3, nrows=9472)"
   ]
  },
  {
   "attachments": {},
   "cell_type": "markdown",
   "id": "2debd238",
   "metadata": {},
   "source": [
    "Объединим в один датасет"
   ]
  },
  {
   "cell_type": "code",
   "execution_count": 54,
   "id": "82ea1f3e",
   "metadata": {},
   "outputs": [],
   "source": [
    "tu2 = pd.concat([t1, t2, t3, t4, t5, t6, t7, t8, t9], ignore_index=True)"
   ]
  },
  {
   "cell_type": "code",
   "execution_count": 66,
   "id": "f25c0cbd",
   "metadata": {},
   "outputs": [],
   "source": [
    "tu2.to_excel('90K17-21.xlsx')"
   ]
  },
  {
   "cell_type": "code",
   "execution_count": 59,
   "id": "b383e105",
   "metadata": {},
   "outputs": [],
   "source": [
    "t1 = pd.read_excel(\"C:/Users/fizze/Desktop/90k17-21/10k17-21.xlsx\", skiprows=3, nrows=10000)\n",
    "t2 = pd.read_excel(\"C:/Users/fizze/Desktop/90k17-21/20k17-21.xlsx\", skiprows=3, nrows=10000)\n",
    "t3 = pd.read_excel(\"C:/Users/fizze/Desktop/90k17-21/30k17-21.xlsx\", skiprows=3, nrows=10000)\n",
    "t4 = pd.read_excel(\"C:/Users/fizze/Desktop/90k17-21/40k17-21.xlsx\", skiprows=3, nrows=10000)\n",
    "t5 = pd.read_excel(\"C:/Users/fizze/Desktop/90k17-21/50k17-21.xlsx\", skiprows=3, nrows=10000)\n",
    "t6 = pd.read_excel(\"C:/Users/fizze/Desktop/90k17-21/60k17-21.xlsx\", skiprows=3, nrows=10000)\n",
    "t7 = pd.read_excel(\"C:/Users/fizze/Desktop/90k17-21/70k17-21.xlsx\", skiprows=3, nrows=10000)\n",
    "t8 = pd.read_excel(\"C:/Users/fizze/Desktop/90k17-21/80k17-21.xlsx\", skiprows=3, nrows=10000)\n",
    "t9 = pd.read_excel(\"C:/Users/fizze/Desktop/90k17-21/90k17-21.xlsx\", skiprows=3, nrows=9472)"
   ]
  },
  {
   "cell_type": "code",
   "execution_count": 60,
   "id": "91427028",
   "metadata": {},
   "outputs": [],
   "source": [
    "tu2 = pd.concat([t1, t2, t3, t4, t5, t6, t7, t8, t9], ignore_index=True)"
   ]
  },
  {
   "cell_type": "code",
   "execution_count": 67,
   "id": "2c0d5cde",
   "metadata": {},
   "outputs": [],
   "source": [
    "t14 = pd.read_excel(\"C:/Users/fizze/Desktop/90k14-16/united/90K14-16.xlsx\")"
   ]
  },
  {
   "cell_type": "code",
   "execution_count": 68,
   "id": "b5918133",
   "metadata": {},
   "outputs": [],
   "source": [
    "t17 = pd.read_excel(\"C:/Users/fizze/Desktop/90k17-21/united/90K17-21.xlsx\")"
   ]
  },
  {
   "cell_type": "code",
   "execution_count": 80,
   "id": "f399e67c",
   "metadata": {},
   "outputs": [],
   "source": [
    "t14_17 = t17.merge(t14, on='Код налогоплательщика')"
   ]
  },
  {
   "cell_type": "code",
   "execution_count": 83,
   "id": "51785c51",
   "metadata": {},
   "outputs": [],
   "source": [
    "t14_17 = pd.read_excel(\"C:/Users/fizze/Desktop/90k/united.xlsx\")"
   ]
  },
  {
   "cell_type": "code",
   "execution_count": 84,
   "id": "2a237184",
   "metadata": {},
   "outputs": [
    {
     "data": {
      "text/plain": [
       "(89472, 35)"
      ]
     },
     "execution_count": 84,
     "metadata": {},
     "output_type": "execute_result"
    }
   ],
   "source": [
    "t14_17.shape"
   ]
  },
  {
   "cell_type": "code",
   "execution_count": 87,
   "id": "9a23e387",
   "metadata": {
    "collapsed": true
   },
   "outputs": [
    {
     "data": {
      "text/plain": [
       "Index(['Unnamed: 0', '№_x', 'Наименование_x', 'Код налогоплательщика',\n",
       "       'Код основного вида деятельности_x', 'Код ОКФС_x', '2017, Выручка, RUB',\n",
       "       '2018, Выручка, RUB', '2019, Выручка, RUB', '2020, Выручка, RUB',\n",
       "       '2021, Выручка, RUB', '2017, Прибыль (убыток) до налогообложения , RUB',\n",
       "       '2018, Прибыль (убыток) до налогообложения , RUB',\n",
       "       '2019, Прибыль (убыток) до налогообложения , RUB',\n",
       "       '2020, Прибыль (убыток) до налогообложения , RUB',\n",
       "       '2021, Прибыль (убыток) до налогообложения , RUB',\n",
       "       '2017, Чистая прибыль (убыток), RUB',\n",
       "       '2018, Чистая прибыль (убыток), RUB',\n",
       "       '2019, Чистая прибыль (убыток), RUB',\n",
       "       '2020, Чистая прибыль (убыток), RUB',\n",
       "       '2021, Чистая прибыль (убыток), RUB', 'Unnamed: 0_y', '№_y',\n",
       "       'Наименование_y', 'Код основного вида деятельности_y', 'Код ОКФС_y',\n",
       "       '2014, Выручка, RUB', '2015, Выручка, RUB', '2016, Выручка, RUB',\n",
       "       '2014, Прибыль (убыток) до налогообложения , RUB',\n",
       "       '2015, Прибыль (убыток) до налогообложения , RUB',\n",
       "       '2016, Прибыль (убыток) до налогообложения , RUB',\n",
       "       '2014, Чистая прибыль (убыток), RUB',\n",
       "       '2015, Чистая прибыль (убыток), RUB',\n",
       "       '2016, Чистая прибыль (убыток), RUB'],\n",
       "      dtype='object')"
      ]
     },
     "execution_count": 87,
     "metadata": {},
     "output_type": "execute_result"
    }
   ],
   "source": [
    "t14_17.columns"
   ]
  },
  {
   "cell_type": "code",
   "execution_count": 101,
   "id": "bca5b932",
   "metadata": {},
   "outputs": [],
   "source": [
    "t14_17[t14_17.columns[[2, 3, 4, 5, 26, 27, 28, 6, 7, 8, 9, 10, 29, 30, 31, 11, 12, 13, 14, 15, 32, 33, 34, 16, 17, 18, 19, 20]]].to_excel('updatedun.xlsx')"
   ]
  },
  {
   "cell_type": "code",
   "execution_count": 96,
   "id": "8f76f233",
   "metadata": {
    "collapsed": true
   },
   "outputs": [
    {
     "data": {
      "text/plain": [
       "['Unnamed: 0',\n",
       " '№_x',\n",
       " 'Наименование_x',\n",
       " 'Код налогоплательщика',\n",
       " 'Код основного вида деятельности_x',\n",
       " 'Код ОКФС_x',\n",
       " '2017, Выручка, RUB',\n",
       " '2018, Выручка, RUB',\n",
       " '2019, Выручка, RUB',\n",
       " '2020, Выручка, RUB',\n",
       " '2021, Выручка, RUB',\n",
       " '2017, Прибыль (убыток) до налогообложения , RUB',\n",
       " '2018, Прибыль (убыток) до налогообложения , RUB',\n",
       " '2019, Прибыль (убыток) до налогообложения , RUB',\n",
       " '2020, Прибыль (убыток) до налогообложения , RUB',\n",
       " '2021, Прибыль (убыток) до налогообложения , RUB',\n",
       " '2017, Чистая прибыль (убыток), RUB',\n",
       " '2018, Чистая прибыль (убыток), RUB',\n",
       " '2019, Чистая прибыль (убыток), RUB',\n",
       " '2020, Чистая прибыль (убыток), RUB',\n",
       " '2021, Чистая прибыль (убыток), RUB',\n",
       " 'Unnamed: 0_y',\n",
       " '№_y',\n",
       " 'Наименование_y',\n",
       " 'Код основного вида деятельности_y',\n",
       " 'Код ОКФС_y',\n",
       " '2014, Выручка, RUB',\n",
       " '2015, Выручка, RUB',\n",
       " '2016, Выручка, RUB',\n",
       " '2014, Прибыль (убыток) до налогообложения , RUB',\n",
       " '2015, Прибыль (убыток) до налогообложения , RUB',\n",
       " '2016, Прибыль (убыток) до налогообложения , RUB',\n",
       " '2014, Чистая прибыль (убыток), RUB',\n",
       " '2015, Чистая прибыль (убыток), RUB',\n",
       " '2016, Чистая прибыль (убыток), RUB']"
      ]
     },
     "execution_count": 96,
     "metadata": {},
     "output_type": "execute_result"
    }
   ],
   "source": [
    "list(t14_17.columns)"
   ]
  },
  {
   "cell_type": "code",
   "execution_count": 2,
   "id": "6a2fe68b",
   "metadata": {},
   "outputs": [],
   "source": [
    "un = pd.read_excel(\"C:/Users/fizze/Desktop/90k/updatedun.xlsx\")"
   ]
  },
  {
   "cell_type": "code",
   "execution_count": 3,
   "id": "7da95c8c",
   "metadata": {
    "collapsed": true
   },
   "outputs": [
    {
     "data": {
      "text/html": [
       "<div>\n",
       "<style scoped>\n",
       "    .dataframe tbody tr th:only-of-type {\n",
       "        vertical-align: middle;\n",
       "    }\n",
       "\n",
       "    .dataframe tbody tr th {\n",
       "        vertical-align: top;\n",
       "    }\n",
       "\n",
       "    .dataframe thead th {\n",
       "        text-align: right;\n",
       "    }\n",
       "</style>\n",
       "<table border=\"1\" class=\"dataframe\">\n",
       "  <thead>\n",
       "    <tr style=\"text-align: right;\">\n",
       "      <th></th>\n",
       "      <th>Unnamed: 0</th>\n",
       "      <th>Наименование</th>\n",
       "      <th>Код налогоплательщика</th>\n",
       "      <th>Код основного вида деятельности</th>\n",
       "      <th>Код ОКФС</th>\n",
       "      <th>2014, Выручка, RUB</th>\n",
       "      <th>2015, Выручка, RUB</th>\n",
       "      <th>2016, Выручка, RUB</th>\n",
       "      <th>2017, Выручка, RUB</th>\n",
       "      <th>2018, Выручка, RUB</th>\n",
       "      <th>...</th>\n",
       "      <th>2020, Прибыль (убыток) до налогообложения , RUB</th>\n",
       "      <th>2021, Прибыль (убыток) до налогообложения , RUB</th>\n",
       "      <th>2014, Чистая прибыль (убыток), RUB</th>\n",
       "      <th>2015, Чистая прибыль (убыток), RUB</th>\n",
       "      <th>2016, Чистая прибыль (убыток), RUB</th>\n",
       "      <th>2017, Чистая прибыль (убыток), RUB</th>\n",
       "      <th>2018, Чистая прибыль (убыток), RUB</th>\n",
       "      <th>2019, Чистая прибыль (убыток), RUB</th>\n",
       "      <th>2020, Чистая прибыль (убыток), RUB</th>\n",
       "      <th>2021, Чистая прибыль (убыток), RUB</th>\n",
       "    </tr>\n",
       "  </thead>\n",
       "  <tbody>\n",
       "    <tr>\n",
       "      <th>0</th>\n",
       "      <td>0</td>\n",
       "      <td>(КОЛХОЗ) ИМ. КАЛИНИНА, СПК</td>\n",
       "      <td>7305000248</td>\n",
       "      <td>01.41</td>\n",
       "      <td>16</td>\n",
       "      <td>81948000</td>\n",
       "      <td>116824000</td>\n",
       "      <td>107300000</td>\n",
       "      <td>116429000.0</td>\n",
       "      <td>133251000.0</td>\n",
       "      <td>...</td>\n",
       "      <td>51973000.0</td>\n",
       "      <td>36616000.0</td>\n",
       "      <td>8992000.0</td>\n",
       "      <td>-2406000.0</td>\n",
       "      <td>16186000.0</td>\n",
       "      <td>24478000.0</td>\n",
       "      <td>39000.0</td>\n",
       "      <td>4264000.0</td>\n",
       "      <td>51973000.0</td>\n",
       "      <td>36616000.0</td>\n",
       "    </tr>\n",
       "    <tr>\n",
       "      <th>1</th>\n",
       "      <td>1</td>\n",
       "      <td>(КОЛХОЗ) ИМ. КРУПСКОЙ, СПК</td>\n",
       "      <td>5651005199</td>\n",
       "      <td>01.5</td>\n",
       "      <td>16</td>\n",
       "      <td>21930000</td>\n",
       "      <td>28694000</td>\n",
       "      <td>36743000</td>\n",
       "      <td>NaN</td>\n",
       "      <td>NaN</td>\n",
       "      <td>...</td>\n",
       "      <td>NaN</td>\n",
       "      <td>NaN</td>\n",
       "      <td>-449000.0</td>\n",
       "      <td>-997000.0</td>\n",
       "      <td>-10729000.0</td>\n",
       "      <td>NaN</td>\n",
       "      <td>NaN</td>\n",
       "      <td>NaN</td>\n",
       "      <td>NaN</td>\n",
       "      <td>NaN</td>\n",
       "    </tr>\n",
       "    <tr>\n",
       "      <th>2</th>\n",
       "      <td>2</td>\n",
       "      <td>(КОЛХОЗ) ИМ. КУЙБЫШЕВА, СПК</td>\n",
       "      <td>3226003979</td>\n",
       "      <td>01.41</td>\n",
       "      <td>16</td>\n",
       "      <td>10188000</td>\n",
       "      <td>11049000</td>\n",
       "      <td>10413000</td>\n",
       "      <td>11287000.0</td>\n",
       "      <td>11309000.0</td>\n",
       "      <td>...</td>\n",
       "      <td>94000.0</td>\n",
       "      <td>-980000.0</td>\n",
       "      <td>809000.0</td>\n",
       "      <td>1509000.0</td>\n",
       "      <td>534000.0</td>\n",
       "      <td>-99000.0</td>\n",
       "      <td>-4223000.0</td>\n",
       "      <td>-7166000.0</td>\n",
       "      <td>94000.0</td>\n",
       "      <td>-980000.0</td>\n",
       "    </tr>\n",
       "    <tr>\n",
       "      <th>3</th>\n",
       "      <td>3</td>\n",
       "      <td>(КОЛХОЗ) ИМ. ЛЕНИНА, СПК</td>\n",
       "      <td>5226011973</td>\n",
       "      <td>01.41</td>\n",
       "      <td>16</td>\n",
       "      <td>17646000</td>\n",
       "      <td>32154000</td>\n",
       "      <td>40915000</td>\n",
       "      <td>31240000.0</td>\n",
       "      <td>24586000.0</td>\n",
       "      <td>...</td>\n",
       "      <td>7720000.0</td>\n",
       "      <td>225000.0</td>\n",
       "      <td>2913000.0</td>\n",
       "      <td>8325000.0</td>\n",
       "      <td>8419000.0</td>\n",
       "      <td>2890000.0</td>\n",
       "      <td>1458000.0</td>\n",
       "      <td>1393000.0</td>\n",
       "      <td>7720000.0</td>\n",
       "      <td>225000.0</td>\n",
       "    </tr>\n",
       "    <tr>\n",
       "      <th>4</th>\n",
       "      <td>4</td>\n",
       "      <td>(КОЛХОЗ) ИМЕНИ КАЛИНИНА, СПК</td>\n",
       "      <td>1807000378</td>\n",
       "      <td>01.50</td>\n",
       "      <td>16</td>\n",
       "      <td>130639000</td>\n",
       "      <td>145724000</td>\n",
       "      <td>141592000</td>\n",
       "      <td>155453000.0</td>\n",
       "      <td>181461000.0</td>\n",
       "      <td>...</td>\n",
       "      <td>52520000.0</td>\n",
       "      <td>50077000.0</td>\n",
       "      <td>21753000.0</td>\n",
       "      <td>16538000.0</td>\n",
       "      <td>12107000.0</td>\n",
       "      <td>13278000.0</td>\n",
       "      <td>30570000.0</td>\n",
       "      <td>42583000.0</td>\n",
       "      <td>52387000.0</td>\n",
       "      <td>49781000.0</td>\n",
       "    </tr>\n",
       "  </tbody>\n",
       "</table>\n",
       "<p>5 rows × 29 columns</p>\n",
       "</div>"
      ],
      "text/plain": [
       "   Unnamed: 0                  Наименование  Код налогоплательщика  \\\n",
       "0           0    (КОЛХОЗ) ИМ. КАЛИНИНА, СПК             7305000248   \n",
       "1           1    (КОЛХОЗ) ИМ. КРУПСКОЙ, СПК             5651005199   \n",
       "2           2   (КОЛХОЗ) ИМ. КУЙБЫШЕВА, СПК             3226003979   \n",
       "3           3      (КОЛХОЗ) ИМ. ЛЕНИНА, СПК             5226011973   \n",
       "4           4  (КОЛХОЗ) ИМЕНИ КАЛИНИНА, СПК             1807000378   \n",
       "\n",
       "  Код основного вида деятельности  Код ОКФС  2014, Выручка, RUB  \\\n",
       "0                           01.41        16            81948000   \n",
       "1                            01.5        16            21930000   \n",
       "2                           01.41        16            10188000   \n",
       "3                           01.41        16            17646000   \n",
       "4                           01.50        16           130639000   \n",
       "\n",
       "   2015, Выручка, RUB  2016, Выручка, RUB  2017, Выручка, RUB  \\\n",
       "0           116824000           107300000         116429000.0   \n",
       "1            28694000            36743000                 NaN   \n",
       "2            11049000            10413000          11287000.0   \n",
       "3            32154000            40915000          31240000.0   \n",
       "4           145724000           141592000         155453000.0   \n",
       "\n",
       "   2018, Выручка, RUB  ...  2020, Прибыль (убыток) до налогообложения , RUB  \\\n",
       "0         133251000.0  ...                                       51973000.0   \n",
       "1                 NaN  ...                                              NaN   \n",
       "2          11309000.0  ...                                          94000.0   \n",
       "3          24586000.0  ...                                        7720000.0   \n",
       "4         181461000.0  ...                                       52520000.0   \n",
       "\n",
       "   2021, Прибыль (убыток) до налогообложения , RUB  \\\n",
       "0                                       36616000.0   \n",
       "1                                              NaN   \n",
       "2                                        -980000.0   \n",
       "3                                         225000.0   \n",
       "4                                       50077000.0   \n",
       "\n",
       "   2014, Чистая прибыль (убыток), RUB  2015, Чистая прибыль (убыток), RUB  \\\n",
       "0                           8992000.0                          -2406000.0   \n",
       "1                           -449000.0                           -997000.0   \n",
       "2                            809000.0                           1509000.0   \n",
       "3                           2913000.0                           8325000.0   \n",
       "4                          21753000.0                          16538000.0   \n",
       "\n",
       "   2016, Чистая прибыль (убыток), RUB  2017, Чистая прибыль (убыток), RUB  \\\n",
       "0                          16186000.0                          24478000.0   \n",
       "1                         -10729000.0                                 NaN   \n",
       "2                            534000.0                            -99000.0   \n",
       "3                           8419000.0                           2890000.0   \n",
       "4                          12107000.0                          13278000.0   \n",
       "\n",
       "   2018, Чистая прибыль (убыток), RUB  2019, Чистая прибыль (убыток), RUB  \\\n",
       "0                             39000.0                           4264000.0   \n",
       "1                                 NaN                                 NaN   \n",
       "2                          -4223000.0                          -7166000.0   \n",
       "3                           1458000.0                           1393000.0   \n",
       "4                          30570000.0                          42583000.0   \n",
       "\n",
       "   2020, Чистая прибыль (убыток), RUB  2021, Чистая прибыль (убыток), RUB  \n",
       "0                          51973000.0                          36616000.0  \n",
       "1                                 NaN                                 NaN  \n",
       "2                             94000.0                           -980000.0  \n",
       "3                           7720000.0                            225000.0  \n",
       "4                          52387000.0                          49781000.0  \n",
       "\n",
       "[5 rows x 29 columns]"
      ]
     },
     "execution_count": 3,
     "metadata": {},
     "output_type": "execute_result"
    }
   ],
   "source": [
    "un.head()"
   ]
  },
  {
   "cell_type": "code",
   "execution_count": 28,
   "id": "8f3d4577",
   "metadata": {},
   "outputs": [],
   "source": [
    "un = un.iloc[:, 1:]"
   ]
  },
  {
   "cell_type": "code",
   "execution_count": null,
   "id": "c72edd16",
   "metadata": {
    "collapsed": true
   },
   "outputs": [],
   "source": [
    "un[un['Код ОКФС']==50]"
   ]
  },
  {
   "cell_type": "code",
   "execution_count": 127,
   "id": "3637126b",
   "metadata": {},
   "outputs": [
    {
     "name": "stderr",
     "output_type": "stream",
     "text": [
      "C:\\Users\\fizze\\AppData\\Local\\Temp\\ipykernel_11684\\3047200277.py:1: SettingWithCopyWarning: \n",
      "A value is trying to be set on a copy of a slice from a DataFrame.\n",
      "Try using .loc[row_indexer,col_indexer] = value instead\n",
      "\n",
      "See the caveats in the documentation: https://pandas.pydata.org/pandas-docs/stable/user_guide/indexing.html#returning-a-view-versus-a-copy\n",
      "  un['PropType'] = np.where((un['PropCode'] == 16) | (un['PropCode'] == 18), 'private', un['PropType'])\n"
     ]
    }
   ],
   "source": [
    "un['PropType'] = np.where((un['PropCode'] == 16) | (un['PropCode'] == 18), 'private', un['PropType'])"
   ]
  },
  {
   "cell_type": "code",
   "execution_count": 64,
   "id": "d17c781d",
   "metadata": {},
   "outputs": [
    {
     "data": {
      "text/plain": [
       "[16, 12, 34, 23, 53, 41, 42, 61, 49]"
      ]
     },
     "execution_count": 64,
     "metadata": {},
     "output_type": "execute_result"
    }
   ],
   "source": [
    "treat['Код ОКФС'].unique().tolist()"
   ]
  },
  {
   "cell_type": "code",
   "execution_count": 46,
   "id": "90dc2fda",
   "metadata": {},
   "outputs": [],
   "source": [
    "treat = pd.read_excel(\"C:/Users/fizze/Desktop/trans_filtred2.xlsx\")"
   ]
  },
  {
   "cell_type": "code",
   "execution_count": 80,
   "id": "b4e00744",
   "metadata": {},
   "outputs": [],
   "source": [
    "un = un[un['PropCode'].isin(treat['Код ОКФС'].unique().tolist())]"
   ]
  },
  {
   "cell_type": "code",
   "execution_count": 78,
   "id": "0aa60a37",
   "metadata": {},
   "outputs": [],
   "source": [
    "un.rename({'Код ОКФС': 'PropCode'}, axis=1, inplace=True)"
   ]
  },
  {
   "cell_type": "code",
   "execution_count": 84,
   "id": "a9047480",
   "metadata": {},
   "outputs": [
    {
     "data": {
      "text/plain": [
       "True"
      ]
     },
     "execution_count": 84,
     "metadata": {},
     "output_type": "execute_result"
    }
   ],
   "source": [
    "len(un.PropCode.unique()) == len(treat['Код ОКФС'].unique())"
   ]
  },
  {
   "cell_type": "code",
   "execution_count": 115,
   "id": "854ccc22",
   "metadata": {},
   "outputs": [
    {
     "data": {
      "text/plain": [
       "array([16, 42, 12, 41, 34, 23, 49, 61, 53], dtype=int64)"
      ]
     },
     "execution_count": 115,
     "metadata": {},
     "output_type": "execute_result"
    }
   ],
   "source": [
    "un.PropCode.unique()"
   ]
  },
  {
   "cell_type": "code",
   "execution_count": 176,
   "id": "bafc0ad5",
   "metadata": {},
   "outputs": [
    {
     "name": "stderr",
     "output_type": "stream",
     "text": [
      "C:\\Users\\fizze\\AppData\\Local\\Temp\\ipykernel_11684\\2006953228.py:2: SettingWithCopyWarning: \n",
      "A value is trying to be set on a copy of a slice from a DataFrame.\n",
      "Try using .loc[row_indexer,col_indexer] = value instead\n",
      "\n",
      "See the caveats in the documentation: https://pandas.pydata.org/pandas-docs/stable/user_guide/indexing.html#returning-a-view-versus-a-copy\n",
      "  un['PropType'] = np.where(un['PropCode'] == 16, 'private', un['PropType'])\n"
     ]
    }
   ],
   "source": [
    "# INCLUDES private only\n",
    "un['PropType'] = np.where(un['PropCode'] == 16, 'private', un['PropType'])"
   ]
  },
  {
   "cell_type": "code",
   "execution_count": 175,
   "id": "60a91ee6",
   "metadata": {},
   "outputs": [
    {
     "name": "stderr",
     "output_type": "stream",
     "text": [
      "C:\\Users\\fizze\\AppData\\Local\\Temp\\ipykernel_11684\\1823094159.py:2: SettingWithCopyWarning: \n",
      "A value is trying to be set on a copy of a slice from a DataFrame.\n",
      "Try using .loc[row_indexer,col_indexer] = value instead\n",
      "\n",
      "See the caveats in the documentation: https://pandas.pydata.org/pandas-docs/stable/user_guide/indexing.html#returning-a-view-versus-a-copy\n",
      "  un['PropType'] = np.where(un['PropCode'].isin(state1other), 'state', un['PropType'])\n"
     ]
    }
   ],
   "source": [
    "state1other = [12, 41, 42, 49, 53, 61] ## INCLUDES state, mun., mixed, communities\n",
    "un['PropType'] = np.where(un['PropCode'].isin(state1other), 'state', un['PropType'])"
   ]
  },
  {
   "cell_type": "code",
   "execution_count": 177,
   "id": "6294c890",
   "metadata": {},
   "outputs": [
    {
     "name": "stderr",
     "output_type": "stream",
     "text": [
      "C:\\Users\\fizze\\AppData\\Local\\Temp\\ipykernel_11684\\1788117365.py:2: SettingWithCopyWarning: \n",
      "A value is trying to be set on a copy of a slice from a DataFrame.\n",
      "Try using .loc[row_indexer,col_indexer] = value instead\n",
      "\n",
      "See the caveats in the documentation: https://pandas.pydata.org/pandas-docs/stable/user_guide/indexing.html#returning-a-view-versus-a-copy\n",
      "  un['PropType'] = np.where((un['PropCode'] == 23) | (un.PropCode == 34), 'foreign', un['PropType'])\n"
     ]
    }
   ],
   "source": [
    "## INCLUDES foreign + private&foreign\n",
    "un['PropType'] = np.where((un['PropCode'] == 23) | (un.PropCode == 34), 'foreign', un['PropType'])"
   ]
  },
  {
   "cell_type": "code",
   "execution_count": 169,
   "id": "d668f52e",
   "metadata": {},
   "outputs": [
    {
     "data": {
      "text/plain": [
       "array([16])"
      ]
     },
     "execution_count": 169,
     "metadata": {},
     "output_type": "execute_result"
    }
   ],
   "source": [
    "np.unique(un[un.PropType == '0']['PropCode'].tolist())"
   ]
  },
  {
   "cell_type": "code",
   "execution_count": 178,
   "id": "f1e1ed87",
   "metadata": {},
   "outputs": [
    {
     "data": {
      "text/plain": [
       "array(['foreign', 'private', 'state'], dtype='<U7')"
      ]
     },
     "execution_count": 178,
     "metadata": {},
     "output_type": "execute_result"
    }
   ],
   "source": [
    "np.unique(un['PropType'].tolist())"
   ]
  },
  {
   "cell_type": "code",
   "execution_count": 179,
   "id": "8c6526db",
   "metadata": {},
   "outputs": [],
   "source": [
    "un.to_excel('upd1_prop.xlsx')"
   ]
  },
  {
   "cell_type": "code",
   "execution_count": 4,
   "id": "16bb1090",
   "metadata": {},
   "outputs": [],
   "source": [
    "upd1 = pd.read_excel(\"C:/Users/fizze/Desktop/90k/upd1_property.xlsx\", ignore_index=True)"
   ]
  },
  {
   "cell_type": "code",
   "execution_count": null,
   "id": "cfe9ab7c",
   "metadata": {},
   "outputs": [],
   "source": [
    "upd1.head()"
   ]
  },
  {
   "cell_type": "code",
   "execution_count": 31,
   "id": "caad332b",
   "metadata": {},
   "outputs": [],
   "source": [
    "upd1 = upd1.drop('Unnamed: 0', axis=1)"
   ]
  },
  {
   "cell_type": "code",
   "execution_count": 3,
   "id": "d3baf1ae",
   "metadata": {},
   "outputs": [],
   "source": [
    "ig = pd.read_excel(\"main/trans_filtred2.xlsx\")"
   ]
  },
  {
   "cell_type": "code",
   "execution_count": 22,
   "id": "81159d3d",
   "metadata": {},
   "outputs": [
    {
     "data": {
      "text/plain": [
       "Index(['№', 'Name', 'INN', 'Код основного вида деятельности', 'Код ОКФС',\n",
       "       '2014, Выручка, RUB', '2015, Выручка, RUB', '2016, Выручка, RUB',\n",
       "       '2017, Выручка, RUB', '2018, Выручка, RUB', '2019, Выручка, RUB',\n",
       "       '2020, Выручка, RUB', '2021, Выручка, RUB',\n",
       "       '2014, Прибыль (убыток) до налогообложения , RUB',\n",
       "       '2015, Прибыль (убыток) до налогообложения , RUB',\n",
       "       '2016, Прибыль (убыток) до налогообложения , RUB',\n",
       "       '2017, Прибыль (убыток) до налогообложения , RUB',\n",
       "       '2018, Прибыль (убыток) до налогообложения , RUB',\n",
       "       '2019, Прибыль (убыток) до налогообложения , RUB',\n",
       "       '2020, Прибыль (убыток) до налогообложения , RUB',\n",
       "       '2021, Прибыль (убыток) до налогообложения , RUB',\n",
       "       '2014, Чистая прибыль (убыток), RUB',\n",
       "       '2015, Чистая прибыль (убыток), RUB',\n",
       "       '2016, Чистая прибыль (убыток), RUB',\n",
       "       '2017, Чистая прибыль (убыток), RUB',\n",
       "       '2018, Чистая прибыль (убыток), RUB',\n",
       "       '2019, Чистая прибыль (убыток), RUB',\n",
       "       '2020, Чистая прибыль (убыток), RUB',\n",
       "       '2021, Чистая прибыль (убыток), RUB'],\n",
       "      dtype='object')"
      ]
     },
     "execution_count": 22,
     "metadata": {},
     "output_type": "execute_result"
    }
   ],
   "source": [
    "ig.columns"
   ]
  },
  {
   "cell_type": "code",
   "execution_count": 4,
   "id": "b3c2cc08",
   "metadata": {},
   "outputs": [],
   "source": [
    "cg = pd.read_excel(\"90k/upd1_property.xlsx\")"
   ]
  },
  {
   "cell_type": "code",
   "execution_count": 21,
   "id": "7bbdf000",
   "metadata": {},
   "outputs": [
    {
     "data": {
      "text/plain": [
       "Index(['Наименование', 'Код налогоплательщика',\n",
       "       'Код основного вида деятельности', 'PropCode', '2014, Выручка, RUB',\n",
       "       '2015, Выручка, RUB', '2016, Выручка, RUB', '2017, Выручка, RUB',\n",
       "       '2018, Выручка, RUB', '2019, Выручка, RUB', '2020, Выручка, RUB',\n",
       "       '2021, Выручка, RUB', '2014, Прибыль (убыток) до налогообложения , RUB',\n",
       "       '2015, Прибыль (убыток) до налогообложения , RUB',\n",
       "       '2016, Прибыль (убыток) до налогообложения , RUB',\n",
       "       '2017, Прибыль (убыток) до налогообложения , RUB',\n",
       "       '2018, Прибыль (убыток) до налогообложения , RUB',\n",
       "       '2019, Прибыль (убыток) до налогообложения , RUB',\n",
       "       '2020, Прибыль (убыток) до налогообложения , RUB',\n",
       "       '2021, Прибыль (убыток) до налогообложения , RUB',\n",
       "       '2014, Чистая прибыль (убыток), RUB',\n",
       "       '2015, Чистая прибыль (убыток), RUB',\n",
       "       '2016, Чистая прибыль (убыток), RUB',\n",
       "       '2017, Чистая прибыль (убыток), RUB',\n",
       "       '2018, Чистая прибыль (убыток), RUB',\n",
       "       '2019, Чистая прибыль (убыток), RUB',\n",
       "       '2020, Чистая прибыль (убыток), RUB',\n",
       "       '2021, Чистая прибыль (убыток), RUB', 'PropType'],\n",
       "      dtype='object')"
      ]
     },
     "execution_count": 21,
     "metadata": {},
     "output_type": "execute_result"
    }
   ],
   "source": [
    "cg.columns"
   ]
  },
  {
   "cell_type": "code",
   "execution_count": 9,
   "id": "ebdf2288",
   "metadata": {},
   "outputs": [],
   "source": [
    "del ig['№']"
   ]
  },
  {
   "cell_type": "code",
   "execution_count": 7,
   "id": "80a55cf7",
   "metadata": {},
   "outputs": [],
   "source": [
    "ig.rename(columns={'Код ОКФС': 'PropCode', 'Код основного вида деятельности': 'ActCode'}, inplace=True)"
   ]
  },
  {
   "cell_type": "code",
   "execution_count": 10,
   "id": "582f90b1",
   "metadata": {},
   "outputs": [
    {
     "data": {
      "text/html": [
       "<div>\n",
       "<style scoped>\n",
       "    .dataframe tbody tr th:only-of-type {\n",
       "        vertical-align: middle;\n",
       "    }\n",
       "\n",
       "    .dataframe tbody tr th {\n",
       "        vertical-align: top;\n",
       "    }\n",
       "\n",
       "    .dataframe thead th {\n",
       "        text-align: right;\n",
       "    }\n",
       "</style>\n",
       "<table border=\"1\" class=\"dataframe\">\n",
       "  <thead>\n",
       "    <tr style=\"text-align: right;\">\n",
       "      <th></th>\n",
       "      <th>Name</th>\n",
       "      <th>INN</th>\n",
       "      <th>ActCode</th>\n",
       "      <th>PropCode</th>\n",
       "      <th>2014, Выручка, RUB</th>\n",
       "      <th>2015, Выручка, RUB</th>\n",
       "      <th>2016, Выручка, RUB</th>\n",
       "      <th>2017, Выручка, RUB</th>\n",
       "      <th>2018, Выручка, RUB</th>\n",
       "      <th>2019, Выручка, RUB</th>\n",
       "      <th>...</th>\n",
       "      <th>2020, Прибыль (убыток) до налогообложения , RUB</th>\n",
       "      <th>2021, Прибыль (убыток) до налогообложения , RUB</th>\n",
       "      <th>2014, Чистая прибыль (убыток), RUB</th>\n",
       "      <th>2015, Чистая прибыль (убыток), RUB</th>\n",
       "      <th>2016, Чистая прибыль (убыток), RUB</th>\n",
       "      <th>2017, Чистая прибыль (убыток), RUB</th>\n",
       "      <th>2018, Чистая прибыль (убыток), RUB</th>\n",
       "      <th>2019, Чистая прибыль (убыток), RUB</th>\n",
       "      <th>2020, Чистая прибыль (убыток), RUB</th>\n",
       "      <th>2021, Чистая прибыль (убыток), RUB</th>\n",
       "    </tr>\n",
       "  </thead>\n",
       "  <tbody>\n",
       "    <tr>\n",
       "      <th>0</th>\n",
       "      <td>АБИ ГРУПП, ЗАО</td>\n",
       "      <td>3328435022</td>\n",
       "      <td>70.22</td>\n",
       "      <td>16</td>\n",
       "      <td>1.201740e+08</td>\n",
       "      <td>1.413170e+08</td>\n",
       "      <td>1.264400e+08</td>\n",
       "      <td>1.201380e+08</td>\n",
       "      <td>1.618730e+08</td>\n",
       "      <td>2.029470e+08</td>\n",
       "      <td>...</td>\n",
       "      <td>4.028200e+07</td>\n",
       "      <td>2.951700e+07</td>\n",
       "      <td>3.039500e+07</td>\n",
       "      <td>1.701600e+07</td>\n",
       "      <td>9.794000e+06</td>\n",
       "      <td>4.640000e+05</td>\n",
       "      <td>1.087100e+07</td>\n",
       "      <td>3.115800e+07</td>\n",
       "      <td>3.204100e+07</td>\n",
       "      <td>2.338800e+07</td>\n",
       "    </tr>\n",
       "    <tr>\n",
       "      <th>1</th>\n",
       "      <td>АБИ ПРОДАКТ, АО</td>\n",
       "      <td>3328458132</td>\n",
       "      <td>70.22</td>\n",
       "      <td>16</td>\n",
       "      <td>7.395810e+08</td>\n",
       "      <td>1.299192e+09</td>\n",
       "      <td>1.832459e+09</td>\n",
       "      <td>2.757634e+09</td>\n",
       "      <td>2.852426e+09</td>\n",
       "      <td>3.188583e+09</td>\n",
       "      <td>...</td>\n",
       "      <td>3.111380e+09</td>\n",
       "      <td>4.238000e+06</td>\n",
       "      <td>5.012300e+08</td>\n",
       "      <td>2.365360e+08</td>\n",
       "      <td>5.352400e+08</td>\n",
       "      <td>3.008589e+09</td>\n",
       "      <td>1.056581e+09</td>\n",
       "      <td>1.835680e+09</td>\n",
       "      <td>3.018320e+09</td>\n",
       "      <td>6.510000e+05</td>\n",
       "    </tr>\n",
       "    <tr>\n",
       "      <th>2</th>\n",
       "      <td>АВТОДОР, ГОСУДАРСТВЕННАЯ КОМПАНИЯ</td>\n",
       "      <td>7717151380</td>\n",
       "      <td>84.11.8</td>\n",
       "      <td>12</td>\n",
       "      <td>7.209280e+08</td>\n",
       "      <td>4.613910e+08</td>\n",
       "      <td>8.096390e+08</td>\n",
       "      <td>2.428650e+08</td>\n",
       "      <td>NaN</td>\n",
       "      <td>NaN</td>\n",
       "      <td>...</td>\n",
       "      <td>NaN</td>\n",
       "      <td>NaN</td>\n",
       "      <td>3.631680e+08</td>\n",
       "      <td>9.854550e+08</td>\n",
       "      <td>9.255340e+08</td>\n",
       "      <td>5.013900e+07</td>\n",
       "      <td>NaN</td>\n",
       "      <td>NaN</td>\n",
       "      <td>NaN</td>\n",
       "      <td>NaN</td>\n",
       "    </tr>\n",
       "    <tr>\n",
       "      <th>3</th>\n",
       "      <td>АГРОКОМПЛЕКС ИМ. Н.И.ТКАЧЕВА, АО ФИРМА</td>\n",
       "      <td>2328000083</td>\n",
       "      <td>01.50</td>\n",
       "      <td>16</td>\n",
       "      <td>2.653824e+10</td>\n",
       "      <td>3.868161e+10</td>\n",
       "      <td>4.475645e+10</td>\n",
       "      <td>4.667984e+10</td>\n",
       "      <td>5.002613e+10</td>\n",
       "      <td>5.319341e+10</td>\n",
       "      <td>...</td>\n",
       "      <td>2.686656e+09</td>\n",
       "      <td>9.080602e+09</td>\n",
       "      <td>4.145442e+09</td>\n",
       "      <td>6.645393e+09</td>\n",
       "      <td>2.944203e+09</td>\n",
       "      <td>-2.112012e+09</td>\n",
       "      <td>-2.924708e+09</td>\n",
       "      <td>1.641324e+09</td>\n",
       "      <td>2.673351e+09</td>\n",
       "      <td>8.600205e+09</td>\n",
       "    </tr>\n",
       "    <tr>\n",
       "      <th>4</th>\n",
       "      <td>АГРОСИЛА, АО</td>\n",
       "      <td>1604010557</td>\n",
       "      <td>69.10</td>\n",
       "      <td>16</td>\n",
       "      <td>NaN</td>\n",
       "      <td>NaN</td>\n",
       "      <td>4.040600e+07</td>\n",
       "      <td>3.228218e+09</td>\n",
       "      <td>3.273816e+09</td>\n",
       "      <td>3.931738e+09</td>\n",
       "      <td>...</td>\n",
       "      <td>1.534600e+07</td>\n",
       "      <td>9.938700e+07</td>\n",
       "      <td>NaN</td>\n",
       "      <td>NaN</td>\n",
       "      <td>-1.019000e+06</td>\n",
       "      <td>2.094900e+07</td>\n",
       "      <td>2.024800e+07</td>\n",
       "      <td>5.184000e+07</td>\n",
       "      <td>1.154100e+07</td>\n",
       "      <td>7.441900e+07</td>\n",
       "    </tr>\n",
       "  </tbody>\n",
       "</table>\n",
       "<p>5 rows × 28 columns</p>\n",
       "</div>"
      ],
      "text/plain": [
       "                                     Name         INN  ActCode  PropCode  \\\n",
       "0                          АБИ ГРУПП, ЗАО  3328435022    70.22        16   \n",
       "1                         АБИ ПРОДАКТ, АО  3328458132    70.22        16   \n",
       "2       АВТОДОР, ГОСУДАРСТВЕННАЯ КОМПАНИЯ  7717151380  84.11.8        12   \n",
       "3  АГРОКОМПЛЕКС ИМ. Н.И.ТКАЧЕВА, АО ФИРМА  2328000083    01.50        16   \n",
       "4                            АГРОСИЛА, АО  1604010557    69.10        16   \n",
       "\n",
       "   2014, Выручка, RUB  2015, Выручка, RUB  2016, Выручка, RUB  \\\n",
       "0        1.201740e+08        1.413170e+08        1.264400e+08   \n",
       "1        7.395810e+08        1.299192e+09        1.832459e+09   \n",
       "2        7.209280e+08        4.613910e+08        8.096390e+08   \n",
       "3        2.653824e+10        3.868161e+10        4.475645e+10   \n",
       "4                 NaN                 NaN        4.040600e+07   \n",
       "\n",
       "   2017, Выручка, RUB  2018, Выручка, RUB  2019, Выручка, RUB  ...  \\\n",
       "0        1.201380e+08        1.618730e+08        2.029470e+08  ...   \n",
       "1        2.757634e+09        2.852426e+09        3.188583e+09  ...   \n",
       "2        2.428650e+08                 NaN                 NaN  ...   \n",
       "3        4.667984e+10        5.002613e+10        5.319341e+10  ...   \n",
       "4        3.228218e+09        3.273816e+09        3.931738e+09  ...   \n",
       "\n",
       "   2020, Прибыль (убыток) до налогообложения , RUB  \\\n",
       "0                                     4.028200e+07   \n",
       "1                                     3.111380e+09   \n",
       "2                                              NaN   \n",
       "3                                     2.686656e+09   \n",
       "4                                     1.534600e+07   \n",
       "\n",
       "   2021, Прибыль (убыток) до налогообложения , RUB  \\\n",
       "0                                     2.951700e+07   \n",
       "1                                     4.238000e+06   \n",
       "2                                              NaN   \n",
       "3                                     9.080602e+09   \n",
       "4                                     9.938700e+07   \n",
       "\n",
       "   2014, Чистая прибыль (убыток), RUB  2015, Чистая прибыль (убыток), RUB  \\\n",
       "0                        3.039500e+07                        1.701600e+07   \n",
       "1                        5.012300e+08                        2.365360e+08   \n",
       "2                        3.631680e+08                        9.854550e+08   \n",
       "3                        4.145442e+09                        6.645393e+09   \n",
       "4                                 NaN                                 NaN   \n",
       "\n",
       "   2016, Чистая прибыль (убыток), RUB  2017, Чистая прибыль (убыток), RUB  \\\n",
       "0                        9.794000e+06                        4.640000e+05   \n",
       "1                        5.352400e+08                        3.008589e+09   \n",
       "2                        9.255340e+08                        5.013900e+07   \n",
       "3                        2.944203e+09                       -2.112012e+09   \n",
       "4                       -1.019000e+06                        2.094900e+07   \n",
       "\n",
       "   2018, Чистая прибыль (убыток), RUB  2019, Чистая прибыль (убыток), RUB  \\\n",
       "0                        1.087100e+07                        3.115800e+07   \n",
       "1                        1.056581e+09                        1.835680e+09   \n",
       "2                                 NaN                                 NaN   \n",
       "3                       -2.924708e+09                        1.641324e+09   \n",
       "4                        2.024800e+07                        5.184000e+07   \n",
       "\n",
       "   2020, Чистая прибыль (убыток), RUB  2021, Чистая прибыль (убыток), RUB  \n",
       "0                        3.204100e+07                        2.338800e+07  \n",
       "1                        3.018320e+09                        6.510000e+05  \n",
       "2                                 NaN                                 NaN  \n",
       "3                        2.673351e+09                        8.600205e+09  \n",
       "4                        1.154100e+07                        7.441900e+07  \n",
       "\n",
       "[5 rows x 28 columns]"
      ]
     },
     "execution_count": 10,
     "metadata": {},
     "output_type": "execute_result"
    }
   ],
   "source": [
    "ig.head()"
   ]
  },
  {
   "cell_type": "code",
   "execution_count": 22,
   "id": "6aa34026",
   "metadata": {},
   "outputs": [],
   "source": [
    "del cg['Unnamed: 0']"
   ]
  },
  {
   "cell_type": "code",
   "execution_count": 18,
   "id": "25bfa6b7",
   "metadata": {},
   "outputs": [],
   "source": [
    "cg.rename(columns={'Код налогоплательщика': 'INN', 'Наименование': 'Name', 'Код основного вида деятельности': 'ActCode'}, inplace=True)"
   ]
  },
  {
   "cell_type": "code",
   "execution_count": 23,
   "id": "4ab33c9d",
   "metadata": {},
   "outputs": [
    {
     "data": {
      "text/html": [
       "<div>\n",
       "<style scoped>\n",
       "    .dataframe tbody tr th:only-of-type {\n",
       "        vertical-align: middle;\n",
       "    }\n",
       "\n",
       "    .dataframe tbody tr th {\n",
       "        vertical-align: top;\n",
       "    }\n",
       "\n",
       "    .dataframe thead th {\n",
       "        text-align: right;\n",
       "    }\n",
       "</style>\n",
       "<table border=\"1\" class=\"dataframe\">\n",
       "  <thead>\n",
       "    <tr style=\"text-align: right;\">\n",
       "      <th></th>\n",
       "      <th>Name</th>\n",
       "      <th>INN</th>\n",
       "      <th>ActCode</th>\n",
       "      <th>PropCode</th>\n",
       "      <th>2014, Выручка, RUB</th>\n",
       "      <th>2015, Выручка, RUB</th>\n",
       "      <th>2016, Выручка, RUB</th>\n",
       "      <th>2017, Выручка, RUB</th>\n",
       "      <th>2018, Выручка, RUB</th>\n",
       "      <th>2019, Выручка, RUB</th>\n",
       "      <th>...</th>\n",
       "      <th>2021, Прибыль (убыток) до налогообложения , RUB</th>\n",
       "      <th>2014, Чистая прибыль (убыток), RUB</th>\n",
       "      <th>2015, Чистая прибыль (убыток), RUB</th>\n",
       "      <th>2016, Чистая прибыль (убыток), RUB</th>\n",
       "      <th>2017, Чистая прибыль (убыток), RUB</th>\n",
       "      <th>2018, Чистая прибыль (убыток), RUB</th>\n",
       "      <th>2019, Чистая прибыль (убыток), RUB</th>\n",
       "      <th>2020, Чистая прибыль (убыток), RUB</th>\n",
       "      <th>2021, Чистая прибыль (убыток), RUB</th>\n",
       "      <th>PropType</th>\n",
       "    </tr>\n",
       "  </thead>\n",
       "  <tbody>\n",
       "    <tr>\n",
       "      <th>0</th>\n",
       "      <td>(КОЛХОЗ) ИМ. КАЛИНИНА, СПК</td>\n",
       "      <td>7305000248</td>\n",
       "      <td>01.41</td>\n",
       "      <td>16</td>\n",
       "      <td>81948000</td>\n",
       "      <td>116824000</td>\n",
       "      <td>107300000</td>\n",
       "      <td>116429000.0</td>\n",
       "      <td>133251000.0</td>\n",
       "      <td>129910000.0</td>\n",
       "      <td>...</td>\n",
       "      <td>36616000.0</td>\n",
       "      <td>8992000.0</td>\n",
       "      <td>-2406000.0</td>\n",
       "      <td>16186000.0</td>\n",
       "      <td>24478000.0</td>\n",
       "      <td>39000.0</td>\n",
       "      <td>4264000.0</td>\n",
       "      <td>51973000.0</td>\n",
       "      <td>36616000.0</td>\n",
       "      <td>private</td>\n",
       "    </tr>\n",
       "    <tr>\n",
       "      <th>1</th>\n",
       "      <td>(КОЛХОЗ) ИМ. КРУПСКОЙ, СПК</td>\n",
       "      <td>5651005199</td>\n",
       "      <td>01.5</td>\n",
       "      <td>16</td>\n",
       "      <td>21930000</td>\n",
       "      <td>28694000</td>\n",
       "      <td>36743000</td>\n",
       "      <td>NaN</td>\n",
       "      <td>NaN</td>\n",
       "      <td>NaN</td>\n",
       "      <td>...</td>\n",
       "      <td>NaN</td>\n",
       "      <td>-449000.0</td>\n",
       "      <td>-997000.0</td>\n",
       "      <td>-10729000.0</td>\n",
       "      <td>NaN</td>\n",
       "      <td>NaN</td>\n",
       "      <td>NaN</td>\n",
       "      <td>NaN</td>\n",
       "      <td>NaN</td>\n",
       "      <td>private</td>\n",
       "    </tr>\n",
       "    <tr>\n",
       "      <th>2</th>\n",
       "      <td>(КОЛХОЗ) ИМ. КУЙБЫШЕВА, СПК</td>\n",
       "      <td>3226003979</td>\n",
       "      <td>01.41</td>\n",
       "      <td>16</td>\n",
       "      <td>10188000</td>\n",
       "      <td>11049000</td>\n",
       "      <td>10413000</td>\n",
       "      <td>11287000.0</td>\n",
       "      <td>11309000.0</td>\n",
       "      <td>12847000.0</td>\n",
       "      <td>...</td>\n",
       "      <td>-980000.0</td>\n",
       "      <td>809000.0</td>\n",
       "      <td>1509000.0</td>\n",
       "      <td>534000.0</td>\n",
       "      <td>-99000.0</td>\n",
       "      <td>-4223000.0</td>\n",
       "      <td>-7166000.0</td>\n",
       "      <td>94000.0</td>\n",
       "      <td>-980000.0</td>\n",
       "      <td>private</td>\n",
       "    </tr>\n",
       "    <tr>\n",
       "      <th>3</th>\n",
       "      <td>(КОЛХОЗ) ИМ. ЛЕНИНА, СПК</td>\n",
       "      <td>5226011973</td>\n",
       "      <td>01.41</td>\n",
       "      <td>16</td>\n",
       "      <td>17646000</td>\n",
       "      <td>32154000</td>\n",
       "      <td>40915000</td>\n",
       "      <td>31240000.0</td>\n",
       "      <td>24586000.0</td>\n",
       "      <td>27445000.0</td>\n",
       "      <td>...</td>\n",
       "      <td>225000.0</td>\n",
       "      <td>2913000.0</td>\n",
       "      <td>8325000.0</td>\n",
       "      <td>8419000.0</td>\n",
       "      <td>2890000.0</td>\n",
       "      <td>1458000.0</td>\n",
       "      <td>1393000.0</td>\n",
       "      <td>7720000.0</td>\n",
       "      <td>225000.0</td>\n",
       "      <td>private</td>\n",
       "    </tr>\n",
       "    <tr>\n",
       "      <th>4</th>\n",
       "      <td>(КОЛХОЗ) ИМЕНИ КАЛИНИНА, СПК</td>\n",
       "      <td>1807000378</td>\n",
       "      <td>01.50</td>\n",
       "      <td>16</td>\n",
       "      <td>130639000</td>\n",
       "      <td>145724000</td>\n",
       "      <td>141592000</td>\n",
       "      <td>155453000.0</td>\n",
       "      <td>181461000.0</td>\n",
       "      <td>223975000.0</td>\n",
       "      <td>...</td>\n",
       "      <td>50077000.0</td>\n",
       "      <td>21753000.0</td>\n",
       "      <td>16538000.0</td>\n",
       "      <td>12107000.0</td>\n",
       "      <td>13278000.0</td>\n",
       "      <td>30570000.0</td>\n",
       "      <td>42583000.0</td>\n",
       "      <td>52387000.0</td>\n",
       "      <td>49781000.0</td>\n",
       "      <td>private</td>\n",
       "    </tr>\n",
       "  </tbody>\n",
       "</table>\n",
       "<p>5 rows × 29 columns</p>\n",
       "</div>"
      ],
      "text/plain": [
       "                           Name         INN ActCode  PropCode  \\\n",
       "0    (КОЛХОЗ) ИМ. КАЛИНИНА, СПК  7305000248   01.41        16   \n",
       "1    (КОЛХОЗ) ИМ. КРУПСКОЙ, СПК  5651005199    01.5        16   \n",
       "2   (КОЛХОЗ) ИМ. КУЙБЫШЕВА, СПК  3226003979   01.41        16   \n",
       "3      (КОЛХОЗ) ИМ. ЛЕНИНА, СПК  5226011973   01.41        16   \n",
       "4  (КОЛХОЗ) ИМЕНИ КАЛИНИНА, СПК  1807000378   01.50        16   \n",
       "\n",
       "   2014, Выручка, RUB  2015, Выручка, RUB  2016, Выручка, RUB  \\\n",
       "0            81948000           116824000           107300000   \n",
       "1            21930000            28694000            36743000   \n",
       "2            10188000            11049000            10413000   \n",
       "3            17646000            32154000            40915000   \n",
       "4           130639000           145724000           141592000   \n",
       "\n",
       "   2017, Выручка, RUB  2018, Выручка, RUB  2019, Выручка, RUB  ...  \\\n",
       "0         116429000.0         133251000.0         129910000.0  ...   \n",
       "1                 NaN                 NaN                 NaN  ...   \n",
       "2          11287000.0          11309000.0          12847000.0  ...   \n",
       "3          31240000.0          24586000.0          27445000.0  ...   \n",
       "4         155453000.0         181461000.0         223975000.0  ...   \n",
       "\n",
       "   2021, Прибыль (убыток) до налогообложения , RUB  \\\n",
       "0                                       36616000.0   \n",
       "1                                              NaN   \n",
       "2                                        -980000.0   \n",
       "3                                         225000.0   \n",
       "4                                       50077000.0   \n",
       "\n",
       "   2014, Чистая прибыль (убыток), RUB  2015, Чистая прибыль (убыток), RUB  \\\n",
       "0                           8992000.0                          -2406000.0   \n",
       "1                           -449000.0                           -997000.0   \n",
       "2                            809000.0                           1509000.0   \n",
       "3                           2913000.0                           8325000.0   \n",
       "4                          21753000.0                          16538000.0   \n",
       "\n",
       "   2016, Чистая прибыль (убыток), RUB  2017, Чистая прибыль (убыток), RUB  \\\n",
       "0                          16186000.0                          24478000.0   \n",
       "1                         -10729000.0                                 NaN   \n",
       "2                            534000.0                            -99000.0   \n",
       "3                           8419000.0                           2890000.0   \n",
       "4                          12107000.0                          13278000.0   \n",
       "\n",
       "   2018, Чистая прибыль (убыток), RUB  2019, Чистая прибыль (убыток), RUB  \\\n",
       "0                             39000.0                           4264000.0   \n",
       "1                                 NaN                                 NaN   \n",
       "2                          -4223000.0                          -7166000.0   \n",
       "3                           1458000.0                           1393000.0   \n",
       "4                          30570000.0                          42583000.0   \n",
       "\n",
       "   2020, Чистая прибыль (убыток), RUB  2021, Чистая прибыль (убыток), RUB  \\\n",
       "0                          51973000.0                          36616000.0   \n",
       "1                                 NaN                                 NaN   \n",
       "2                             94000.0                           -980000.0   \n",
       "3                           7720000.0                            225000.0   \n",
       "4                          52387000.0                          49781000.0   \n",
       "\n",
       "   PropType  \n",
       "0   private  \n",
       "1   private  \n",
       "2   private  \n",
       "3   private  \n",
       "4   private  \n",
       "\n",
       "[5 rows x 29 columns]"
      ]
     },
     "execution_count": 23,
     "metadata": {},
     "output_type": "execute_result"
    }
   ],
   "source": [
    "cg.head()"
   ]
  },
  {
   "cell_type": "code",
   "execution_count": 26,
   "id": "2690bc16",
   "metadata": {},
   "outputs": [
    {
     "data": {
      "text/plain": [
       "Index(['Name', 'INN', 'ActCode', 'PropCode', '2014, Выручка, RUB',\n",
       "       '2015, Выручка, RUB', '2016, Выручка, RUB', '2017, Выручка, RUB',\n",
       "       '2018, Выручка, RUB', '2019, Выручка, RUB', '2020, Выручка, RUB',\n",
       "       '2021, Выручка, RUB', '2014, Прибыль (убыток) до налогообложения , RUB',\n",
       "       '2015, Прибыль (убыток) до налогообложения , RUB',\n",
       "       '2016, Прибыль (убыток) до налогообложения , RUB',\n",
       "       '2017, Прибыль (убыток) до налогообложения , RUB',\n",
       "       '2018, Прибыль (убыток) до налогообложения , RUB',\n",
       "       '2019, Прибыль (убыток) до налогообложения , RUB',\n",
       "       '2020, Прибыль (убыток) до налогообложения , RUB',\n",
       "       '2021, Прибыль (убыток) до налогообложения , RUB',\n",
       "       '2014, Чистая прибыль (убыток), RUB',\n",
       "       '2015, Чистая прибыль (убыток), RUB',\n",
       "       '2016, Чистая прибыль (убыток), RUB',\n",
       "       '2017, Чистая прибыль (убыток), RUB',\n",
       "       '2018, Чистая прибыль (убыток), RUB',\n",
       "       '2019, Чистая прибыль (убыток), RUB',\n",
       "       '2020, Чистая прибыль (убыток), RUB',\n",
       "       '2021, Чистая прибыль (убыток), RUB'],\n",
       "      dtype='object')"
      ]
     },
     "execution_count": 26,
     "metadata": {},
     "output_type": "execute_result"
    }
   ],
   "source": [
    "ig.columns"
   ]
  },
  {
   "cell_type": "code",
   "execution_count": 27,
   "id": "cb638778",
   "metadata": {},
   "outputs": [
    {
     "data": {
      "text/plain": [
       "Index(['Name', 'INN', 'ActCode', 'PropCode', '2014, Выручка, RUB',\n",
       "       '2015, Выручка, RUB', '2016, Выручка, RUB', '2017, Выручка, RUB',\n",
       "       '2018, Выручка, RUB', '2019, Выручка, RUB', '2020, Выручка, RUB',\n",
       "       '2021, Выручка, RUB', '2014, Прибыль (убыток) до налогообложения , RUB',\n",
       "       '2015, Прибыль (убыток) до налогообложения , RUB',\n",
       "       '2016, Прибыль (убыток) до налогообложения , RUB',\n",
       "       '2017, Прибыль (убыток) до налогообложения , RUB',\n",
       "       '2018, Прибыль (убыток) до налогообложения , RUB',\n",
       "       '2019, Прибыль (убыток) до налогообложения , RUB',\n",
       "       '2020, Прибыль (убыток) до налогообложения , RUB',\n",
       "       '2021, Прибыль (убыток) до налогообложения , RUB',\n",
       "       '2014, Чистая прибыль (убыток), RUB',\n",
       "       '2015, Чистая прибыль (убыток), RUB',\n",
       "       '2016, Чистая прибыль (убыток), RUB',\n",
       "       '2017, Чистая прибыль (убыток), RUB',\n",
       "       '2018, Чистая прибыль (убыток), RUB',\n",
       "       '2019, Чистая прибыль (убыток), RUB',\n",
       "       '2020, Чистая прибыль (убыток), RUB',\n",
       "       '2021, Чистая прибыль (убыток), RUB', 'PropType'],\n",
       "      dtype='object')"
      ]
     },
     "execution_count": 27,
     "metadata": {},
     "output_type": "execute_result"
    }
   ],
   "source": [
    "cg.columns"
   ]
  },
  {
   "cell_type": "code",
   "execution_count": 54,
   "id": "fb0b2ea4",
   "metadata": {},
   "outputs": [],
   "source": [
    "# Create a PropType for interaction group"
   ]
  },
  {
   "cell_type": "code",
   "execution_count": 28,
   "id": "d22b029d",
   "metadata": {},
   "outputs": [
    {
     "data": {
      "text/plain": [
       "[12, 16, 23, 34, 41, 42, 49, 53, 61]"
      ]
     },
     "execution_count": 28,
     "metadata": {},
     "output_type": "execute_result"
    }
   ],
   "source": [
    "#checking\n",
    "sorted(ig.PropCode.unique())"
   ]
  },
  {
   "cell_type": "code",
   "execution_count": 29,
   "id": "25adabf2",
   "metadata": {},
   "outputs": [
    {
     "data": {
      "text/plain": [
       "[12, 16, 23, 34, 41, 42, 49, 53, 61]"
      ]
     },
     "execution_count": 29,
     "metadata": {},
     "output_type": "execute_result"
    }
   ],
   "source": [
    "sorted(cg.PropCode.unique())"
   ]
  },
  {
   "cell_type": "code",
   "execution_count": 30,
   "id": "5d14d586",
   "metadata": {},
   "outputs": [],
   "source": [
    "ig['PropType'] = 0"
   ]
  },
  {
   "cell_type": "code",
   "execution_count": 31,
   "id": "2c4efc37",
   "metadata": {},
   "outputs": [],
   "source": [
    "# INCLUDES private only\n",
    "ig['PropType'] = np.where(ig['PropCode'] == 16, 'private', ig['PropType'])"
   ]
  },
  {
   "cell_type": "code",
   "execution_count": 32,
   "id": "f501b1ca",
   "metadata": {},
   "outputs": [],
   "source": [
    "state1other = [12, 41, 42, 49, 53, 61] \n",
    "## INCLUDES state, mun., mixed, communities\n",
    "ig['PropType'] = np.where(ig['PropCode'].isin(state1other), 'state', ig['PropType'])"
   ]
  },
  {
   "cell_type": "code",
   "execution_count": 33,
   "id": "4ed19752",
   "metadata": {},
   "outputs": [],
   "source": [
    "## INCLUDES foreign + private&foreign\n",
    "ig['PropType'] = np.where((ig['PropCode'] == 23) | (ig.PropCode == 34), 'foreign', ig['PropType'])"
   ]
  },
  {
   "cell_type": "code",
   "execution_count": 35,
   "id": "00a740ab",
   "metadata": {},
   "outputs": [
    {
     "data": {
      "text/plain": [
       "array([ True,  True,  True,  True,  True,  True,  True,  True,  True,\n",
       "        True,  True,  True,  True,  True,  True,  True,  True,  True,\n",
       "        True,  True,  True,  True,  True,  True,  True,  True,  True,\n",
       "        True,  True])"
      ]
     },
     "execution_count": 35,
     "metadata": {},
     "output_type": "execute_result"
    }
   ],
   "source": [
    "ig.columns == cg.columns"
   ]
  },
  {
   "cell_type": "code",
   "execution_count": 36,
   "id": "adba22c5",
   "metadata": {},
   "outputs": [],
   "source": [
    "ig.to_csv('readyig.csv')"
   ]
  },
  {
   "cell_type": "code",
   "execution_count": 37,
   "id": "dbc73f9d",
   "metadata": {},
   "outputs": [],
   "source": [
    "cg.to_csv('readycg.csv')"
   ]
  },
  {
   "attachments": {},
   "cell_type": "markdown",
   "id": "88d3c675",
   "metadata": {},
   "source": [
    "## Matching"
   ]
  },
  {
   "cell_type": "code",
   "execution_count": 38,
   "id": "1ffd7c70",
   "metadata": {},
   "outputs": [],
   "source": [
    "ig['treat'] = 1\n",
    "cg['treat'] = 0"
   ]
  },
  {
   "cell_type": "code",
   "execution_count": 42,
   "id": "0a0c26de",
   "metadata": {},
   "outputs": [],
   "source": [
    "conca = pd.concat([ig, cg])"
   ]
  },
  {
   "cell_type": "code",
   "execution_count": 45,
   "id": "1af0a0b4",
   "metadata": {},
   "outputs": [
    {
     "data": {
      "text/html": [
       "<div>\n",
       "<style scoped>\n",
       "    .dataframe tbody tr th:only-of-type {\n",
       "        vertical-align: middle;\n",
       "    }\n",
       "\n",
       "    .dataframe tbody tr th {\n",
       "        vertical-align: top;\n",
       "    }\n",
       "\n",
       "    .dataframe thead th {\n",
       "        text-align: right;\n",
       "    }\n",
       "</style>\n",
       "<table border=\"1\" class=\"dataframe\">\n",
       "  <thead>\n",
       "    <tr style=\"text-align: right;\">\n",
       "      <th></th>\n",
       "      <th>Name</th>\n",
       "      <th>INN</th>\n",
       "      <th>ActCode</th>\n",
       "      <th>PropCode</th>\n",
       "      <th>2014, Выручка, RUB</th>\n",
       "      <th>2015, Выручка, RUB</th>\n",
       "      <th>2016, Выручка, RUB</th>\n",
       "      <th>2017, Выручка, RUB</th>\n",
       "      <th>2018, Выручка, RUB</th>\n",
       "      <th>2019, Выручка, RUB</th>\n",
       "      <th>...</th>\n",
       "      <th>2014, Чистая прибыль (убыток), RUB</th>\n",
       "      <th>2015, Чистая прибыль (убыток), RUB</th>\n",
       "      <th>2016, Чистая прибыль (убыток), RUB</th>\n",
       "      <th>2017, Чистая прибыль (убыток), RUB</th>\n",
       "      <th>2018, Чистая прибыль (убыток), RUB</th>\n",
       "      <th>2019, Чистая прибыль (убыток), RUB</th>\n",
       "      <th>2020, Чистая прибыль (убыток), RUB</th>\n",
       "      <th>2021, Чистая прибыль (убыток), RUB</th>\n",
       "      <th>PropType</th>\n",
       "      <th>treat</th>\n",
       "    </tr>\n",
       "  </thead>\n",
       "  <tbody>\n",
       "    <tr>\n",
       "      <th>0</th>\n",
       "      <td>АБИ ГРУПП, ЗАО</td>\n",
       "      <td>3328435022</td>\n",
       "      <td>70.22</td>\n",
       "      <td>16</td>\n",
       "      <td>1.201740e+08</td>\n",
       "      <td>1.413170e+08</td>\n",
       "      <td>1.264400e+08</td>\n",
       "      <td>1.201380e+08</td>\n",
       "      <td>1.618730e+08</td>\n",
       "      <td>2.029470e+08</td>\n",
       "      <td>...</td>\n",
       "      <td>3.039500e+07</td>\n",
       "      <td>1.701600e+07</td>\n",
       "      <td>9.794000e+06</td>\n",
       "      <td>4.640000e+05</td>\n",
       "      <td>1.087100e+07</td>\n",
       "      <td>3.115800e+07</td>\n",
       "      <td>3.204100e+07</td>\n",
       "      <td>2.338800e+07</td>\n",
       "      <td>private</td>\n",
       "      <td>1</td>\n",
       "    </tr>\n",
       "    <tr>\n",
       "      <th>1</th>\n",
       "      <td>АБИ ПРОДАКТ, АО</td>\n",
       "      <td>3328458132</td>\n",
       "      <td>70.22</td>\n",
       "      <td>16</td>\n",
       "      <td>7.395810e+08</td>\n",
       "      <td>1.299192e+09</td>\n",
       "      <td>1.832459e+09</td>\n",
       "      <td>2.757634e+09</td>\n",
       "      <td>2.852426e+09</td>\n",
       "      <td>3.188583e+09</td>\n",
       "      <td>...</td>\n",
       "      <td>5.012300e+08</td>\n",
       "      <td>2.365360e+08</td>\n",
       "      <td>5.352400e+08</td>\n",
       "      <td>3.008589e+09</td>\n",
       "      <td>1.056581e+09</td>\n",
       "      <td>1.835680e+09</td>\n",
       "      <td>3.018320e+09</td>\n",
       "      <td>6.510000e+05</td>\n",
       "      <td>private</td>\n",
       "      <td>1</td>\n",
       "    </tr>\n",
       "    <tr>\n",
       "      <th>2</th>\n",
       "      <td>АВТОДОР, ГОСУДАРСТВЕННАЯ КОМПАНИЯ</td>\n",
       "      <td>7717151380</td>\n",
       "      <td>84.11.8</td>\n",
       "      <td>12</td>\n",
       "      <td>7.209280e+08</td>\n",
       "      <td>4.613910e+08</td>\n",
       "      <td>8.096390e+08</td>\n",
       "      <td>2.428650e+08</td>\n",
       "      <td>NaN</td>\n",
       "      <td>NaN</td>\n",
       "      <td>...</td>\n",
       "      <td>3.631680e+08</td>\n",
       "      <td>9.854550e+08</td>\n",
       "      <td>9.255340e+08</td>\n",
       "      <td>5.013900e+07</td>\n",
       "      <td>NaN</td>\n",
       "      <td>NaN</td>\n",
       "      <td>NaN</td>\n",
       "      <td>NaN</td>\n",
       "      <td>state</td>\n",
       "      <td>1</td>\n",
       "    </tr>\n",
       "    <tr>\n",
       "      <th>3</th>\n",
       "      <td>АГРОКОМПЛЕКС ИМ. Н.И.ТКАЧЕВА, АО ФИРМА</td>\n",
       "      <td>2328000083</td>\n",
       "      <td>01.50</td>\n",
       "      <td>16</td>\n",
       "      <td>2.653824e+10</td>\n",
       "      <td>3.868161e+10</td>\n",
       "      <td>4.475645e+10</td>\n",
       "      <td>4.667984e+10</td>\n",
       "      <td>5.002613e+10</td>\n",
       "      <td>5.319341e+10</td>\n",
       "      <td>...</td>\n",
       "      <td>4.145442e+09</td>\n",
       "      <td>6.645393e+09</td>\n",
       "      <td>2.944203e+09</td>\n",
       "      <td>-2.112012e+09</td>\n",
       "      <td>-2.924708e+09</td>\n",
       "      <td>1.641324e+09</td>\n",
       "      <td>2.673351e+09</td>\n",
       "      <td>8.600205e+09</td>\n",
       "      <td>private</td>\n",
       "      <td>1</td>\n",
       "    </tr>\n",
       "    <tr>\n",
       "      <th>4</th>\n",
       "      <td>АГРОСИЛА, АО</td>\n",
       "      <td>1604010557</td>\n",
       "      <td>69.10</td>\n",
       "      <td>16</td>\n",
       "      <td>NaN</td>\n",
       "      <td>NaN</td>\n",
       "      <td>4.040600e+07</td>\n",
       "      <td>3.228218e+09</td>\n",
       "      <td>3.273816e+09</td>\n",
       "      <td>3.931738e+09</td>\n",
       "      <td>...</td>\n",
       "      <td>NaN</td>\n",
       "      <td>NaN</td>\n",
       "      <td>-1.019000e+06</td>\n",
       "      <td>2.094900e+07</td>\n",
       "      <td>2.024800e+07</td>\n",
       "      <td>5.184000e+07</td>\n",
       "      <td>1.154100e+07</td>\n",
       "      <td>7.441900e+07</td>\n",
       "      <td>private</td>\n",
       "      <td>1</td>\n",
       "    </tr>\n",
       "  </tbody>\n",
       "</table>\n",
       "<p>5 rows × 30 columns</p>\n",
       "</div>"
      ],
      "text/plain": [
       "                                     Name         INN  ActCode  PropCode  \\\n",
       "0                          АБИ ГРУПП, ЗАО  3328435022    70.22        16   \n",
       "1                         АБИ ПРОДАКТ, АО  3328458132    70.22        16   \n",
       "2       АВТОДОР, ГОСУДАРСТВЕННАЯ КОМПАНИЯ  7717151380  84.11.8        12   \n",
       "3  АГРОКОМПЛЕКС ИМ. Н.И.ТКАЧЕВА, АО ФИРМА  2328000083    01.50        16   \n",
       "4                            АГРОСИЛА, АО  1604010557    69.10        16   \n",
       "\n",
       "   2014, Выручка, RUB  2015, Выручка, RUB  2016, Выручка, RUB  \\\n",
       "0        1.201740e+08        1.413170e+08        1.264400e+08   \n",
       "1        7.395810e+08        1.299192e+09        1.832459e+09   \n",
       "2        7.209280e+08        4.613910e+08        8.096390e+08   \n",
       "3        2.653824e+10        3.868161e+10        4.475645e+10   \n",
       "4                 NaN                 NaN        4.040600e+07   \n",
       "\n",
       "   2017, Выручка, RUB  2018, Выручка, RUB  2019, Выручка, RUB  ...  \\\n",
       "0        1.201380e+08        1.618730e+08        2.029470e+08  ...   \n",
       "1        2.757634e+09        2.852426e+09        3.188583e+09  ...   \n",
       "2        2.428650e+08                 NaN                 NaN  ...   \n",
       "3        4.667984e+10        5.002613e+10        5.319341e+10  ...   \n",
       "4        3.228218e+09        3.273816e+09        3.931738e+09  ...   \n",
       "\n",
       "   2014, Чистая прибыль (убыток), RUB  2015, Чистая прибыль (убыток), RUB  \\\n",
       "0                        3.039500e+07                        1.701600e+07   \n",
       "1                        5.012300e+08                        2.365360e+08   \n",
       "2                        3.631680e+08                        9.854550e+08   \n",
       "3                        4.145442e+09                        6.645393e+09   \n",
       "4                                 NaN                                 NaN   \n",
       "\n",
       "   2016, Чистая прибыль (убыток), RUB  2017, Чистая прибыль (убыток), RUB  \\\n",
       "0                        9.794000e+06                        4.640000e+05   \n",
       "1                        5.352400e+08                        3.008589e+09   \n",
       "2                        9.255340e+08                        5.013900e+07   \n",
       "3                        2.944203e+09                       -2.112012e+09   \n",
       "4                       -1.019000e+06                        2.094900e+07   \n",
       "\n",
       "   2018, Чистая прибыль (убыток), RUB  2019, Чистая прибыль (убыток), RUB  \\\n",
       "0                        1.087100e+07                        3.115800e+07   \n",
       "1                        1.056581e+09                        1.835680e+09   \n",
       "2                                 NaN                                 NaN   \n",
       "3                       -2.924708e+09                        1.641324e+09   \n",
       "4                        2.024800e+07                        5.184000e+07   \n",
       "\n",
       "   2020, Чистая прибыль (убыток), RUB  2021, Чистая прибыль (убыток), RUB  \\\n",
       "0                        3.204100e+07                        2.338800e+07   \n",
       "1                        3.018320e+09                        6.510000e+05   \n",
       "2                                 NaN                                 NaN   \n",
       "3                        2.673351e+09                        8.600205e+09   \n",
       "4                        1.154100e+07                        7.441900e+07   \n",
       "\n",
       "   PropType  treat  \n",
       "0   private      1  \n",
       "1   private      1  \n",
       "2     state      1  \n",
       "3   private      1  \n",
       "4   private      1  \n",
       "\n",
       "[5 rows x 30 columns]"
      ]
     },
     "execution_count": 45,
     "metadata": {},
     "output_type": "execute_result"
    }
   ],
   "source": [
    "conca.head()"
   ]
  },
  {
   "cell_type": "code",
   "execution_count": 47,
   "id": "64454380",
   "metadata": {},
   "outputs": [
    {
     "data": {
      "text/plain": [
       "(85941, 30)"
      ]
     },
     "execution_count": 47,
     "metadata": {},
     "output_type": "execute_result"
    }
   ],
   "source": [
    "cg.shape"
   ]
  },
  {
   "cell_type": "code",
   "execution_count": 44,
   "id": "89dc1185",
   "metadata": {},
   "outputs": [
    {
     "data": {
      "text/plain": [
       "(86016, 30)"
      ]
     },
     "execution_count": 44,
     "metadata": {},
     "output_type": "execute_result"
    }
   ],
   "source": [
    "conca.shape"
   ]
  },
  {
   "cell_type": "code",
   "execution_count": 48,
   "id": "c5055e12",
   "metadata": {},
   "outputs": [],
   "source": [
    "conca.to_csv('fulldf.csv')"
   ]
  },
  {
   "cell_type": "code",
   "execution_count": 73,
   "id": "9d3c1de5",
   "metadata": {},
   "outputs": [
    {
     "name": "stdout",
     "output_type": "stream",
     "text": [
      "Collecting psmpy\n",
      "  Downloading psmpy-0.3.13-py3-none-any.whl (13 kB)\n",
      "Requirement already satisfied: scikit-learn in d:\\programs\\anaconda\\envs\\dvc\\lib\\site-packages (from psmpy) (1.2.2)\n",
      "Requirement already satisfied: scipy in d:\\programs\\anaconda\\envs\\dvc\\lib\\site-packages (from psmpy) (1.10.1)\n",
      "Requirement already satisfied: matplotlib in d:\\programs\\anaconda\\envs\\dvc\\lib\\site-packages (from psmpy) (3.7.1)\n",
      "Requirement already satisfied: pandas in d:\\programs\\anaconda\\envs\\dvc\\lib\\site-packages (from psmpy) (1.5.3)\n",
      "Requirement already satisfied: seaborn in d:\\programs\\anaconda\\envs\\dvc\\lib\\site-packages (from psmpy) (0.12.2)\n",
      "Requirement already satisfied: numpy in d:\\programs\\anaconda\\envs\\dvc\\lib\\site-packages (from psmpy) (1.24.2)\n",
      "Requirement already satisfied: contourpy>=1.0.1 in d:\\programs\\anaconda\\envs\\dvc\\lib\\site-packages (from matplotlib->psmpy) (1.0.7)\n",
      "Requirement already satisfied: fonttools>=4.22.0 in d:\\programs\\anaconda\\envs\\dvc\\lib\\site-packages (from matplotlib->psmpy) (4.39.4)\n",
      "Requirement already satisfied: cycler>=0.10 in d:\\programs\\anaconda\\envs\\dvc\\lib\\site-packages (from matplotlib->psmpy) (0.11.0)\n",
      "Requirement already satisfied: importlib-resources>=3.2.0 in d:\\programs\\anaconda\\envs\\dvc\\lib\\site-packages (from matplotlib->psmpy) (5.12.0)\n",
      "Requirement already satisfied: packaging>=20.0 in d:\\programs\\anaconda\\envs\\dvc\\lib\\site-packages (from matplotlib->psmpy) (23.0)\n",
      "Requirement already satisfied: python-dateutil>=2.7 in d:\\programs\\anaconda\\envs\\dvc\\lib\\site-packages (from matplotlib->psmpy) (2.8.2)\n",
      "Requirement already satisfied: pillow>=6.2.0 in d:\\programs\\anaconda\\envs\\dvc\\lib\\site-packages (from matplotlib->psmpy) (9.4.0)\n",
      "Requirement already satisfied: pyparsing>=2.3.1 in d:\\programs\\anaconda\\envs\\dvc\\lib\\site-packages (from matplotlib->psmpy) (3.0.9)\n",
      "Requirement already satisfied: kiwisolver>=1.0.1 in d:\\programs\\anaconda\\envs\\dvc\\lib\\site-packages (from matplotlib->psmpy) (1.4.4)\n",
      "Requirement already satisfied: pytz>=2020.1 in d:\\programs\\anaconda\\envs\\dvc\\lib\\site-packages (from pandas->psmpy) (2022.7.1)\n",
      "Requirement already satisfied: joblib>=1.1.1 in d:\\programs\\anaconda\\envs\\dvc\\lib\\site-packages (from scikit-learn->psmpy) (1.2.0)\n",
      "Requirement already satisfied: threadpoolctl>=2.0.0 in d:\\programs\\anaconda\\envs\\dvc\\lib\\site-packages (from scikit-learn->psmpy) (3.1.0)\n",
      "Requirement already satisfied: zipp>=3.1.0 in d:\\programs\\anaconda\\envs\\dvc\\lib\\site-packages (from importlib-resources>=3.2.0->matplotlib->psmpy) (3.15.0)\n",
      "Requirement already satisfied: six>=1.5 in d:\\programs\\anaconda\\envs\\dvc\\lib\\site-packages (from python-dateutil>=2.7->matplotlib->psmpy) (1.16.0)\n",
      "Installing collected packages: psmpy\n",
      "Successfully installed psmpy-0.3.13\n",
      "Note: you may need to restart the kernel to use updated packages.\n"
     ]
    }
   ],
   "source": [
    "pip install psmpy"
   ]
  },
  {
   "cell_type": "code",
   "execution_count": 1,
   "id": "bd11a719",
   "metadata": {},
   "outputs": [],
   "source": [
    "from psmpy import PsmPy\n",
    "from psmpy.functions import cohenD\n",
    "from psmpy.plotting import *"
   ]
  },
  {
   "cell_type": "code",
   "execution_count": 75,
   "id": "8c857f6c",
   "metadata": {},
   "outputs": [],
   "source": [
    "#Treatment treshold to be decided reading dumabingo\n"
   ]
  },
  {
   "cell_type": "code",
   "execution_count": null,
   "id": "ab6f49e0",
   "metadata": {},
   "outputs": [],
   "source": []
  }
 ],
 "metadata": {
  "kernelspec": {
   "display_name": "Python 3 (ipykernel)",
   "language": "python",
   "name": "python3"
  },
  "language_info": {
   "codemirror_mode": {
    "name": "ipython",
    "version": 3
   },
   "file_extension": ".py",
   "mimetype": "text/x-python",
   "name": "python",
   "nbconvert_exporter": "python",
   "pygments_lexer": "ipython3",
   "version": "3.8.2"
  }
 },
 "nbformat": 4,
 "nbformat_minor": 5
}
